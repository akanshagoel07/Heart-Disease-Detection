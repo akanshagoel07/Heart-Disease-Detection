{
  "nbformat": 4,
  "nbformat_minor": 0,
  "metadata": {
    "colab": {
      "name": "Heart_Disease.ipynb",
      "provenance": [],
      "collapsed_sections": []
    },
    "kernelspec": {
      "name": "python3",
      "display_name": "Python 3"
    },
    "language_info": {
      "name": "python"
    }
  },
  "cells": [
    {
      "cell_type": "code",
      "metadata": {
        "id": "Usqu4VkKHTiB"
      },
      "source": [
        "import os\n",
        "import pandas as pd\n",
        "import numpy as np\n",
        "import matplotlib.pyplot as plt\n",
        "import seaborn as sns\n",
        "import scipy.stats as stats\n",
        "\n",
        "sns.set(style=\"whitegrid\")\n",
        "# import missingno as msno # To visualize missing value\n",
        "# import plotly.graph_objects as go # To Generate Graphs\n",
        "# import plotly.express as px # To Generate box plot for statistical representation\n",
        "%matplotlib inline\n",
        "\n",
        "import warnings\n",
        "warnings.filterwarnings('ignore')"
      ],
      "execution_count": null,
      "outputs": []
    },
    {
      "cell_type": "code",
      "metadata": {
        "id": "drkj78z8IfHP"
      },
      "source": [
        "df = pd.read_csv('heart.csv')"
      ],
      "execution_count": null,
      "outputs": []
    },
    {
      "cell_type": "code",
      "metadata": {
        "colab": {
          "base_uri": "https://localhost:8080/"
        },
        "id": "GwL7avW1Ii-1",
        "outputId": "ae078fce-aebb-4e1e-e779-e42a6a576e96"
      },
      "source": [
        "# print the shape\n",
        "print('The shape of the dataset : ', df.shape)"
      ],
      "execution_count": null,
      "outputs": [
        {
          "output_type": "stream",
          "name": "stdout",
          "text": [
            "The shape of the dataset :  (918, 12)\n"
          ]
        }
      ]
    },
    {
      "cell_type": "code",
      "metadata": {
        "colab": {
          "base_uri": "https://localhost:8080/",
          "height": 203
        },
        "id": "RFMfGNzZJdJL",
        "outputId": "2e3fe3b3-99b8-4268-822b-aa2c76085136"
      },
      "source": [
        "df.head()"
      ],
      "execution_count": null,
      "outputs": [
        {
          "output_type": "execute_result",
          "data": {
            "text/html": [
              "<div>\n",
              "<style scoped>\n",
              "    .dataframe tbody tr th:only-of-type {\n",
              "        vertical-align: middle;\n",
              "    }\n",
              "\n",
              "    .dataframe tbody tr th {\n",
              "        vertical-align: top;\n",
              "    }\n",
              "\n",
              "    .dataframe thead th {\n",
              "        text-align: right;\n",
              "    }\n",
              "</style>\n",
              "<table border=\"1\" class=\"dataframe\">\n",
              "  <thead>\n",
              "    <tr style=\"text-align: right;\">\n",
              "      <th></th>\n",
              "      <th>Age</th>\n",
              "      <th>Sex</th>\n",
              "      <th>ChestPainType</th>\n",
              "      <th>RestingBP</th>\n",
              "      <th>Cholesterol</th>\n",
              "      <th>FastingBS</th>\n",
              "      <th>RestingECG</th>\n",
              "      <th>MaxHR</th>\n",
              "      <th>ExerciseAngina</th>\n",
              "      <th>Oldpeak</th>\n",
              "      <th>ST_Slope</th>\n",
              "      <th>HeartDisease</th>\n",
              "    </tr>\n",
              "  </thead>\n",
              "  <tbody>\n",
              "    <tr>\n",
              "      <th>0</th>\n",
              "      <td>40</td>\n",
              "      <td>M</td>\n",
              "      <td>ATA</td>\n",
              "      <td>140</td>\n",
              "      <td>289</td>\n",
              "      <td>0</td>\n",
              "      <td>Normal</td>\n",
              "      <td>172</td>\n",
              "      <td>N</td>\n",
              "      <td>0.0</td>\n",
              "      <td>Up</td>\n",
              "      <td>0</td>\n",
              "    </tr>\n",
              "    <tr>\n",
              "      <th>1</th>\n",
              "      <td>49</td>\n",
              "      <td>F</td>\n",
              "      <td>NAP</td>\n",
              "      <td>160</td>\n",
              "      <td>180</td>\n",
              "      <td>0</td>\n",
              "      <td>Normal</td>\n",
              "      <td>156</td>\n",
              "      <td>N</td>\n",
              "      <td>1.0</td>\n",
              "      <td>Flat</td>\n",
              "      <td>1</td>\n",
              "    </tr>\n",
              "    <tr>\n",
              "      <th>2</th>\n",
              "      <td>37</td>\n",
              "      <td>M</td>\n",
              "      <td>ATA</td>\n",
              "      <td>130</td>\n",
              "      <td>283</td>\n",
              "      <td>0</td>\n",
              "      <td>ST</td>\n",
              "      <td>98</td>\n",
              "      <td>N</td>\n",
              "      <td>0.0</td>\n",
              "      <td>Up</td>\n",
              "      <td>0</td>\n",
              "    </tr>\n",
              "    <tr>\n",
              "      <th>3</th>\n",
              "      <td>48</td>\n",
              "      <td>F</td>\n",
              "      <td>ASY</td>\n",
              "      <td>138</td>\n",
              "      <td>214</td>\n",
              "      <td>0</td>\n",
              "      <td>Normal</td>\n",
              "      <td>108</td>\n",
              "      <td>Y</td>\n",
              "      <td>1.5</td>\n",
              "      <td>Flat</td>\n",
              "      <td>1</td>\n",
              "    </tr>\n",
              "    <tr>\n",
              "      <th>4</th>\n",
              "      <td>54</td>\n",
              "      <td>M</td>\n",
              "      <td>NAP</td>\n",
              "      <td>150</td>\n",
              "      <td>195</td>\n",
              "      <td>0</td>\n",
              "      <td>Normal</td>\n",
              "      <td>122</td>\n",
              "      <td>N</td>\n",
              "      <td>0.0</td>\n",
              "      <td>Up</td>\n",
              "      <td>0</td>\n",
              "    </tr>\n",
              "  </tbody>\n",
              "</table>\n",
              "</div>"
            ],
            "text/plain": [
              "   Age Sex ChestPainType  ...  Oldpeak  ST_Slope  HeartDisease\n",
              "0   40   M           ATA  ...      0.0        Up             0\n",
              "1   49   F           NAP  ...      1.0      Flat             1\n",
              "2   37   M           ATA  ...      0.0        Up             0\n",
              "3   48   F           ASY  ...      1.5      Flat             1\n",
              "4   54   M           NAP  ...      0.0        Up             0\n",
              "\n",
              "[5 rows x 12 columns]"
            ]
          },
          "metadata": {},
          "execution_count": 4
        }
      ]
    },
    {
      "cell_type": "code",
      "metadata": {
        "colab": {
          "base_uri": "https://localhost:8080/"
        },
        "id": "Kulmem-9Jfgv",
        "outputId": "1d7b69f1-a355-4fed-e51b-f411302fd73c"
      },
      "source": [
        "df.info()"
      ],
      "execution_count": null,
      "outputs": [
        {
          "output_type": "stream",
          "name": "stdout",
          "text": [
            "<class 'pandas.core.frame.DataFrame'>\n",
            "RangeIndex: 918 entries, 0 to 917\n",
            "Data columns (total 12 columns):\n",
            " #   Column          Non-Null Count  Dtype  \n",
            "---  ------          --------------  -----  \n",
            " 0   Age             918 non-null    int64  \n",
            " 1   Sex             918 non-null    object \n",
            " 2   ChestPainType   918 non-null    object \n",
            " 3   RestingBP       918 non-null    int64  \n",
            " 4   Cholesterol     918 non-null    int64  \n",
            " 5   FastingBS       918 non-null    int64  \n",
            " 6   RestingECG      918 non-null    object \n",
            " 7   MaxHR           918 non-null    int64  \n",
            " 8   ExerciseAngina  918 non-null    object \n",
            " 9   Oldpeak         918 non-null    float64\n",
            " 10  ST_Slope        918 non-null    object \n",
            " 11  HeartDisease    918 non-null    int64  \n",
            "dtypes: float64(1), int64(6), object(5)\n",
            "memory usage: 86.2+ KB\n"
          ]
        }
      ]
    },
    {
      "cell_type": "code",
      "metadata": {
        "colab": {
          "base_uri": "https://localhost:8080/"
        },
        "id": "NUThjXVFJjUc",
        "outputId": "dab527fb-ab62-484d-8fb7-a8daa08c8f37"
      },
      "source": [
        "df.dtypes"
      ],
      "execution_count": null,
      "outputs": [
        {
          "output_type": "execute_result",
          "data": {
            "text/plain": [
              "Age                 int64\n",
              "Sex                object\n",
              "ChestPainType      object\n",
              "RestingBP           int64\n",
              "Cholesterol         int64\n",
              "FastingBS           int64\n",
              "RestingECG         object\n",
              "MaxHR               int64\n",
              "ExerciseAngina     object\n",
              "Oldpeak           float64\n",
              "ST_Slope           object\n",
              "HeartDisease        int64\n",
              "dtype: object"
            ]
          },
          "metadata": {},
          "execution_count": 6
        }
      ]
    },
    {
      "cell_type": "code",
      "metadata": {
        "colab": {
          "base_uri": "https://localhost:8080/"
        },
        "id": "mImqJkvbJmB7",
        "outputId": "2c76a99d-45f9-4480-86c7-477d0e3b855e"
      },
      "source": [
        "df[\"Sex\"] = df[\"Sex\"].astype('category')\n",
        "c = df.Sex.astype('category')\n",
        "d = dict(enumerate(c.cat.categories))\n",
        "print (d)\n",
        "df[\"Sex\"] = df[\"Sex\"].cat.codes\n",
        "\n",
        "df[\"ChestPainType\"] = df[\"ChestPainType\"].astype('category')\n",
        "c = df.ChestPainType.astype('category')\n",
        "d = dict(enumerate(c.cat.categories))\n",
        "print (d)\n",
        "df[\"ChestPainType\"] = df[\"ChestPainType\"].cat.codes\n",
        "\n",
        "df[\"RestingECG\"] = df[\"RestingECG\"].astype('category')\n",
        "c = df.RestingECG.astype('category')\n",
        "d = dict(enumerate(c.cat.categories))\n",
        "print (d)\n",
        "df[\"RestingECG\"] = df[\"RestingECG\"].cat.codes\n",
        "\n",
        "df[\"ExerciseAngina\"] = df[\"ExerciseAngina\"].astype('category')\n",
        "c = df.ExerciseAngina.astype('category')\n",
        "d = dict(enumerate(c.cat.categories))\n",
        "print (d)\n",
        "df[\"ExerciseAngina\"] = df[\"ExerciseAngina\"].cat.codes\n",
        "\n",
        "df[\"ST_Slope\"] = df[\"ST_Slope\"].astype('category')\n",
        "c = df.ST_Slope.astype('category')\n",
        "d = dict(enumerate(c.cat.categories))\n",
        "print (d)\n",
        "df[\"ST_Slope\"] = df[\"ST_Slope\"].cat.codes"
      ],
      "execution_count": null,
      "outputs": [
        {
          "output_type": "stream",
          "name": "stdout",
          "text": [
            "{0: 'F', 1: 'M'}\n",
            "{0: 'ASY', 1: 'ATA', 2: 'NAP', 3: 'TA'}\n",
            "{0: 'LVH', 1: 'Normal', 2: 'ST'}\n",
            "{0: 'N', 1: 'Y'}\n",
            "{0: 'Down', 1: 'Flat', 2: 'Up'}\n"
          ]
        }
      ]
    },
    {
      "cell_type": "code",
      "metadata": {
        "colab": {
          "base_uri": "https://localhost:8080/"
        },
        "id": "0c5ztx4tLfsI",
        "outputId": "72bf7178-02bd-4339-ffed-d2dcd2b83d01"
      },
      "source": [
        "c = df.Sex.astype('category')\n",
        "\n",
        "d = dict(enumerate(c.cat.categories))\n",
        "print (d)"
      ],
      "execution_count": null,
      "outputs": [
        {
          "output_type": "stream",
          "name": "stdout",
          "text": [
            "{0: 0, 1: 1}\n"
          ]
        }
      ]
    },
    {
      "cell_type": "code",
      "metadata": {
        "colab": {
          "base_uri": "https://localhost:8080/"
        },
        "id": "baaObuGYLmVF",
        "outputId": "57dddaf3-80b8-42e6-ae1a-c923d67e8b7b"
      },
      "source": [
        "df.dtypes"
      ],
      "execution_count": null,
      "outputs": [
        {
          "output_type": "execute_result",
          "data": {
            "text/plain": [
              "Age                 int64\n",
              "Sex                  int8\n",
              "ChestPainType        int8\n",
              "RestingBP           int64\n",
              "Cholesterol         int64\n",
              "FastingBS           int64\n",
              "RestingECG           int8\n",
              "MaxHR               int64\n",
              "ExerciseAngina       int8\n",
              "Oldpeak           float64\n",
              "ST_Slope             int8\n",
              "HeartDisease        int64\n",
              "dtype: object"
            ]
          },
          "metadata": {},
          "execution_count": 9
        }
      ]
    },
    {
      "cell_type": "code",
      "metadata": {
        "colab": {
          "base_uri": "https://localhost:8080/",
          "height": 315
        },
        "id": "QXq1cL59LnfF",
        "outputId": "d6a1b8f1-4f4a-4b14-90b7-39e59f182b17"
      },
      "source": [
        "df.describe()"
      ],
      "execution_count": null,
      "outputs": [
        {
          "output_type": "execute_result",
          "data": {
            "text/html": [
              "<div>\n",
              "<style scoped>\n",
              "    .dataframe tbody tr th:only-of-type {\n",
              "        vertical-align: middle;\n",
              "    }\n",
              "\n",
              "    .dataframe tbody tr th {\n",
              "        vertical-align: top;\n",
              "    }\n",
              "\n",
              "    .dataframe thead th {\n",
              "        text-align: right;\n",
              "    }\n",
              "</style>\n",
              "<table border=\"1\" class=\"dataframe\">\n",
              "  <thead>\n",
              "    <tr style=\"text-align: right;\">\n",
              "      <th></th>\n",
              "      <th>Age</th>\n",
              "      <th>Sex</th>\n",
              "      <th>ChestPainType</th>\n",
              "      <th>RestingBP</th>\n",
              "      <th>Cholesterol</th>\n",
              "      <th>FastingBS</th>\n",
              "      <th>RestingECG</th>\n",
              "      <th>MaxHR</th>\n",
              "      <th>ExerciseAngina</th>\n",
              "      <th>Oldpeak</th>\n",
              "      <th>ST_Slope</th>\n",
              "      <th>HeartDisease</th>\n",
              "    </tr>\n",
              "  </thead>\n",
              "  <tbody>\n",
              "    <tr>\n",
              "      <th>count</th>\n",
              "      <td>918.000000</td>\n",
              "      <td>918.000000</td>\n",
              "      <td>918.000000</td>\n",
              "      <td>918.000000</td>\n",
              "      <td>918.000000</td>\n",
              "      <td>918.000000</td>\n",
              "      <td>918.000000</td>\n",
              "      <td>918.000000</td>\n",
              "      <td>918.000000</td>\n",
              "      <td>918.000000</td>\n",
              "      <td>918.000000</td>\n",
              "      <td>918.000000</td>\n",
              "    </tr>\n",
              "    <tr>\n",
              "      <th>mean</th>\n",
              "      <td>53.510893</td>\n",
              "      <td>0.789760</td>\n",
              "      <td>0.781046</td>\n",
              "      <td>132.396514</td>\n",
              "      <td>198.799564</td>\n",
              "      <td>0.233115</td>\n",
              "      <td>0.989107</td>\n",
              "      <td>136.809368</td>\n",
              "      <td>0.404139</td>\n",
              "      <td>0.887364</td>\n",
              "      <td>1.361656</td>\n",
              "      <td>0.553377</td>\n",
              "    </tr>\n",
              "    <tr>\n",
              "      <th>std</th>\n",
              "      <td>9.432617</td>\n",
              "      <td>0.407701</td>\n",
              "      <td>0.956519</td>\n",
              "      <td>18.514154</td>\n",
              "      <td>109.384145</td>\n",
              "      <td>0.423046</td>\n",
              "      <td>0.631671</td>\n",
              "      <td>25.460334</td>\n",
              "      <td>0.490992</td>\n",
              "      <td>1.066570</td>\n",
              "      <td>0.607056</td>\n",
              "      <td>0.497414</td>\n",
              "    </tr>\n",
              "    <tr>\n",
              "      <th>min</th>\n",
              "      <td>28.000000</td>\n",
              "      <td>0.000000</td>\n",
              "      <td>0.000000</td>\n",
              "      <td>0.000000</td>\n",
              "      <td>0.000000</td>\n",
              "      <td>0.000000</td>\n",
              "      <td>0.000000</td>\n",
              "      <td>60.000000</td>\n",
              "      <td>0.000000</td>\n",
              "      <td>-2.600000</td>\n",
              "      <td>0.000000</td>\n",
              "      <td>0.000000</td>\n",
              "    </tr>\n",
              "    <tr>\n",
              "      <th>25%</th>\n",
              "      <td>47.000000</td>\n",
              "      <td>1.000000</td>\n",
              "      <td>0.000000</td>\n",
              "      <td>120.000000</td>\n",
              "      <td>173.250000</td>\n",
              "      <td>0.000000</td>\n",
              "      <td>1.000000</td>\n",
              "      <td>120.000000</td>\n",
              "      <td>0.000000</td>\n",
              "      <td>0.000000</td>\n",
              "      <td>1.000000</td>\n",
              "      <td>0.000000</td>\n",
              "    </tr>\n",
              "    <tr>\n",
              "      <th>50%</th>\n",
              "      <td>54.000000</td>\n",
              "      <td>1.000000</td>\n",
              "      <td>0.000000</td>\n",
              "      <td>130.000000</td>\n",
              "      <td>223.000000</td>\n",
              "      <td>0.000000</td>\n",
              "      <td>1.000000</td>\n",
              "      <td>138.000000</td>\n",
              "      <td>0.000000</td>\n",
              "      <td>0.600000</td>\n",
              "      <td>1.000000</td>\n",
              "      <td>1.000000</td>\n",
              "    </tr>\n",
              "    <tr>\n",
              "      <th>75%</th>\n",
              "      <td>60.000000</td>\n",
              "      <td>1.000000</td>\n",
              "      <td>2.000000</td>\n",
              "      <td>140.000000</td>\n",
              "      <td>267.000000</td>\n",
              "      <td>0.000000</td>\n",
              "      <td>1.000000</td>\n",
              "      <td>156.000000</td>\n",
              "      <td>1.000000</td>\n",
              "      <td>1.500000</td>\n",
              "      <td>2.000000</td>\n",
              "      <td>1.000000</td>\n",
              "    </tr>\n",
              "    <tr>\n",
              "      <th>max</th>\n",
              "      <td>77.000000</td>\n",
              "      <td>1.000000</td>\n",
              "      <td>3.000000</td>\n",
              "      <td>200.000000</td>\n",
              "      <td>603.000000</td>\n",
              "      <td>1.000000</td>\n",
              "      <td>2.000000</td>\n",
              "      <td>202.000000</td>\n",
              "      <td>1.000000</td>\n",
              "      <td>6.200000</td>\n",
              "      <td>2.000000</td>\n",
              "      <td>1.000000</td>\n",
              "    </tr>\n",
              "  </tbody>\n",
              "</table>\n",
              "</div>"
            ],
            "text/plain": [
              "              Age         Sex  ...    ST_Slope  HeartDisease\n",
              "count  918.000000  918.000000  ...  918.000000    918.000000\n",
              "mean    53.510893    0.789760  ...    1.361656      0.553377\n",
              "std      9.432617    0.407701  ...    0.607056      0.497414\n",
              "min     28.000000    0.000000  ...    0.000000      0.000000\n",
              "25%     47.000000    1.000000  ...    1.000000      0.000000\n",
              "50%     54.000000    1.000000  ...    1.000000      1.000000\n",
              "75%     60.000000    1.000000  ...    2.000000      1.000000\n",
              "max     77.000000    1.000000  ...    2.000000      1.000000\n",
              "\n",
              "[8 rows x 12 columns]"
            ]
          },
          "metadata": {},
          "execution_count": 10
        }
      ]
    },
    {
      "cell_type": "code",
      "metadata": {
        "colab": {
          "base_uri": "https://localhost:8080/"
        },
        "id": "EMTU-Y26aPdu",
        "outputId": "1da70fbb-8a15-440f-a9e0-24c7f53f7f08"
      },
      "source": [
        "df.columns"
      ],
      "execution_count": null,
      "outputs": [
        {
          "output_type": "execute_result",
          "data": {
            "text/plain": [
              "Index(['Age', 'Sex', 'ChestPainType', 'RestingBP', 'Cholesterol', 'FastingBS',\n",
              "       'RestingECG', 'MaxHR', 'ExerciseAngina', 'Oldpeak', 'ST_Slope',\n",
              "       'HeartDisease'],\n",
              "      dtype='object')"
            ]
          },
          "metadata": {},
          "execution_count": 11
        }
      ]
    },
    {
      "cell_type": "code",
      "metadata": {
        "colab": {
          "base_uri": "https://localhost:8080/"
        },
        "id": "rk8HnHDbLxu2",
        "outputId": "8a353e36-7256-4a15-e6fb-e7c9454c8dca"
      },
      "source": [
        "df['HeartDisease'].nunique()"
      ],
      "execution_count": null,
      "outputs": [
        {
          "output_type": "execute_result",
          "data": {
            "text/plain": [
              "2"
            ]
          },
          "metadata": {},
          "execution_count": 12
        }
      ]
    },
    {
      "cell_type": "code",
      "metadata": {
        "colab": {
          "base_uri": "https://localhost:8080/",
          "height": 417
        },
        "id": "JJcWFFy8L1X1",
        "outputId": "3c72b459-47a6-41c2-8835-6e2278c5413e"
      },
      "source": [
        "df"
      ],
      "execution_count": null,
      "outputs": [
        {
          "output_type": "execute_result",
          "data": {
            "text/html": [
              "<div>\n",
              "<style scoped>\n",
              "    .dataframe tbody tr th:only-of-type {\n",
              "        vertical-align: middle;\n",
              "    }\n",
              "\n",
              "    .dataframe tbody tr th {\n",
              "        vertical-align: top;\n",
              "    }\n",
              "\n",
              "    .dataframe thead th {\n",
              "        text-align: right;\n",
              "    }\n",
              "</style>\n",
              "<table border=\"1\" class=\"dataframe\">\n",
              "  <thead>\n",
              "    <tr style=\"text-align: right;\">\n",
              "      <th></th>\n",
              "      <th>Age</th>\n",
              "      <th>Sex</th>\n",
              "      <th>ChestPainType</th>\n",
              "      <th>RestingBP</th>\n",
              "      <th>Cholesterol</th>\n",
              "      <th>FastingBS</th>\n",
              "      <th>RestingECG</th>\n",
              "      <th>MaxHR</th>\n",
              "      <th>ExerciseAngina</th>\n",
              "      <th>Oldpeak</th>\n",
              "      <th>ST_Slope</th>\n",
              "      <th>HeartDisease</th>\n",
              "    </tr>\n",
              "  </thead>\n",
              "  <tbody>\n",
              "    <tr>\n",
              "      <th>0</th>\n",
              "      <td>40</td>\n",
              "      <td>1</td>\n",
              "      <td>1</td>\n",
              "      <td>140</td>\n",
              "      <td>289</td>\n",
              "      <td>0</td>\n",
              "      <td>1</td>\n",
              "      <td>172</td>\n",
              "      <td>0</td>\n",
              "      <td>0.0</td>\n",
              "      <td>2</td>\n",
              "      <td>0</td>\n",
              "    </tr>\n",
              "    <tr>\n",
              "      <th>1</th>\n",
              "      <td>49</td>\n",
              "      <td>0</td>\n",
              "      <td>2</td>\n",
              "      <td>160</td>\n",
              "      <td>180</td>\n",
              "      <td>0</td>\n",
              "      <td>1</td>\n",
              "      <td>156</td>\n",
              "      <td>0</td>\n",
              "      <td>1.0</td>\n",
              "      <td>1</td>\n",
              "      <td>1</td>\n",
              "    </tr>\n",
              "    <tr>\n",
              "      <th>2</th>\n",
              "      <td>37</td>\n",
              "      <td>1</td>\n",
              "      <td>1</td>\n",
              "      <td>130</td>\n",
              "      <td>283</td>\n",
              "      <td>0</td>\n",
              "      <td>2</td>\n",
              "      <td>98</td>\n",
              "      <td>0</td>\n",
              "      <td>0.0</td>\n",
              "      <td>2</td>\n",
              "      <td>0</td>\n",
              "    </tr>\n",
              "    <tr>\n",
              "      <th>3</th>\n",
              "      <td>48</td>\n",
              "      <td>0</td>\n",
              "      <td>0</td>\n",
              "      <td>138</td>\n",
              "      <td>214</td>\n",
              "      <td>0</td>\n",
              "      <td>1</td>\n",
              "      <td>108</td>\n",
              "      <td>1</td>\n",
              "      <td>1.5</td>\n",
              "      <td>1</td>\n",
              "      <td>1</td>\n",
              "    </tr>\n",
              "    <tr>\n",
              "      <th>4</th>\n",
              "      <td>54</td>\n",
              "      <td>1</td>\n",
              "      <td>2</td>\n",
              "      <td>150</td>\n",
              "      <td>195</td>\n",
              "      <td>0</td>\n",
              "      <td>1</td>\n",
              "      <td>122</td>\n",
              "      <td>0</td>\n",
              "      <td>0.0</td>\n",
              "      <td>2</td>\n",
              "      <td>0</td>\n",
              "    </tr>\n",
              "    <tr>\n",
              "      <th>...</th>\n",
              "      <td>...</td>\n",
              "      <td>...</td>\n",
              "      <td>...</td>\n",
              "      <td>...</td>\n",
              "      <td>...</td>\n",
              "      <td>...</td>\n",
              "      <td>...</td>\n",
              "      <td>...</td>\n",
              "      <td>...</td>\n",
              "      <td>...</td>\n",
              "      <td>...</td>\n",
              "      <td>...</td>\n",
              "    </tr>\n",
              "    <tr>\n",
              "      <th>913</th>\n",
              "      <td>45</td>\n",
              "      <td>1</td>\n",
              "      <td>3</td>\n",
              "      <td>110</td>\n",
              "      <td>264</td>\n",
              "      <td>0</td>\n",
              "      <td>1</td>\n",
              "      <td>132</td>\n",
              "      <td>0</td>\n",
              "      <td>1.2</td>\n",
              "      <td>1</td>\n",
              "      <td>1</td>\n",
              "    </tr>\n",
              "    <tr>\n",
              "      <th>914</th>\n",
              "      <td>68</td>\n",
              "      <td>1</td>\n",
              "      <td>0</td>\n",
              "      <td>144</td>\n",
              "      <td>193</td>\n",
              "      <td>1</td>\n",
              "      <td>1</td>\n",
              "      <td>141</td>\n",
              "      <td>0</td>\n",
              "      <td>3.4</td>\n",
              "      <td>1</td>\n",
              "      <td>1</td>\n",
              "    </tr>\n",
              "    <tr>\n",
              "      <th>915</th>\n",
              "      <td>57</td>\n",
              "      <td>1</td>\n",
              "      <td>0</td>\n",
              "      <td>130</td>\n",
              "      <td>131</td>\n",
              "      <td>0</td>\n",
              "      <td>1</td>\n",
              "      <td>115</td>\n",
              "      <td>1</td>\n",
              "      <td>1.2</td>\n",
              "      <td>1</td>\n",
              "      <td>1</td>\n",
              "    </tr>\n",
              "    <tr>\n",
              "      <th>916</th>\n",
              "      <td>57</td>\n",
              "      <td>0</td>\n",
              "      <td>1</td>\n",
              "      <td>130</td>\n",
              "      <td>236</td>\n",
              "      <td>0</td>\n",
              "      <td>0</td>\n",
              "      <td>174</td>\n",
              "      <td>0</td>\n",
              "      <td>0.0</td>\n",
              "      <td>1</td>\n",
              "      <td>1</td>\n",
              "    </tr>\n",
              "    <tr>\n",
              "      <th>917</th>\n",
              "      <td>38</td>\n",
              "      <td>1</td>\n",
              "      <td>2</td>\n",
              "      <td>138</td>\n",
              "      <td>175</td>\n",
              "      <td>0</td>\n",
              "      <td>1</td>\n",
              "      <td>173</td>\n",
              "      <td>0</td>\n",
              "      <td>0.0</td>\n",
              "      <td>2</td>\n",
              "      <td>0</td>\n",
              "    </tr>\n",
              "  </tbody>\n",
              "</table>\n",
              "<p>918 rows × 12 columns</p>\n",
              "</div>"
            ],
            "text/plain": [
              "     Age  Sex  ChestPainType  ...  Oldpeak  ST_Slope  HeartDisease\n",
              "0     40    1              1  ...      0.0         2             0\n",
              "1     49    0              2  ...      1.0         1             1\n",
              "2     37    1              1  ...      0.0         2             0\n",
              "3     48    0              0  ...      1.5         1             1\n",
              "4     54    1              2  ...      0.0         2             0\n",
              "..   ...  ...            ...  ...      ...       ...           ...\n",
              "913   45    1              3  ...      1.2         1             1\n",
              "914   68    1              0  ...      3.4         1             1\n",
              "915   57    1              0  ...      1.2         1             1\n",
              "916   57    0              1  ...      0.0         1             1\n",
              "917   38    1              2  ...      0.0         2             0\n",
              "\n",
              "[918 rows x 12 columns]"
            ]
          },
          "metadata": {},
          "execution_count": 13
        }
      ]
    },
    {
      "cell_type": "code",
      "metadata": {
        "colab": {
          "base_uri": "https://localhost:8080/"
        },
        "id": "7NzdMjnQL7EY",
        "outputId": "5fedc6c0-50f3-4e72-b4c8-dda5b0225d11"
      },
      "source": [
        "df['HeartDisease'].unique()"
      ],
      "execution_count": null,
      "outputs": [
        {
          "output_type": "execute_result",
          "data": {
            "text/plain": [
              "array([0, 1])"
            ]
          },
          "metadata": {},
          "execution_count": 14
        }
      ]
    },
    {
      "cell_type": "code",
      "metadata": {
        "colab": {
          "base_uri": "https://localhost:8080/"
        },
        "id": "xzojQYxOM0J3",
        "outputId": "09783a2c-9ba3-4600-e3f4-79270f6e33c7"
      },
      "source": [
        "df['HeartDisease'].value_counts()"
      ],
      "execution_count": null,
      "outputs": [
        {
          "output_type": "execute_result",
          "data": {
            "text/plain": [
              "1    508\n",
              "0    410\n",
              "Name: HeartDisease, dtype: int64"
            ]
          },
          "metadata": {},
          "execution_count": 15
        }
      ]
    },
    {
      "cell_type": "code",
      "metadata": {
        "colab": {
          "base_uri": "https://localhost:8080/",
          "height": 394
        },
        "id": "w5VyDzoPM37t",
        "outputId": "6035bf49-9a6c-4343-d416-809d9961b927"
      },
      "source": [
        "f, ax = plt.subplots(figsize=(8, 6))\n",
        "ax = sns.countplot(x=\"HeartDisease\", data=df)\n",
        "plt.show()"
      ],
      "execution_count": null,
      "outputs": [
        {
          "output_type": "display_data",
          "data": {
            "image/png": "[encoded data removed]",
            "text/plain": [
              "<Figure size 576x432 with 1 Axes>"
            ]
          },
          "metadata": {
            "needs_background": "light"
          }
        }
      ]
    },
    {
      "cell_type": "code",
      "metadata": {
        "colab": {
          "base_uri": "https://localhost:8080/",
          "height": 394
        },
        "id": "sXdx1pKbM54H",
        "outputId": "48ddc727-931a-49c9-8f31-45af4d3fb1d6"
      },
      "source": [
        "f, ax = plt.subplots(figsize=(8, 6))\n",
        "ax = sns.countplot(x=\"Sex\", hue=\"HeartDisease\", data=df)\n",
        "plt.show()"
      ],
      "execution_count": null,
      "outputs": [
        {
          "output_type": "display_data",
          "data": {
            "image/png": "[encoded data removed]",
            "text/plain": [
              "<Figure size 576x432 with 1 Axes>"
            ]
          },
          "metadata": {
            "needs_background": "light"
          }
        }
      ]
    },
    {
      "cell_type": "code",
      "metadata": {
        "id": "NKYS8-SqNVMi"
      },
      "source": [
        "correlation = df.corr()"
      ],
      "execution_count": null,
      "outputs": []
    },
    {
      "cell_type": "code",
      "metadata": {
        "colab": {
          "base_uri": "https://localhost:8080/"
        },
        "id": "z6eTS0QBNYi5",
        "outputId": "bfff158c-68a8-4873-fb26-0d71f5118b35"
      },
      "source": [
        "correlation['HeartDisease'].sort_values(ascending=False)"
      ],
      "execution_count": null,
      "outputs": [
        {
          "output_type": "execute_result",
          "data": {
            "text/plain": [
              "HeartDisease      1.000000\n",
              "ExerciseAngina    0.494282\n",
              "Oldpeak           0.403951\n",
              "Sex               0.305445\n",
              "Age               0.282039\n",
              "FastingBS         0.267291\n",
              "RestingBP         0.107589\n",
              "RestingECG        0.057384\n",
              "Cholesterol      -0.232741\n",
              "ChestPainType    -0.386828\n",
              "MaxHR            -0.400421\n",
              "ST_Slope         -0.558771\n",
              "Name: HeartDisease, dtype: float64"
            ]
          },
          "metadata": {},
          "execution_count": 19
        }
      ]
    },
    {
      "cell_type": "code",
      "metadata": {
        "colab": {
          "base_uri": "https://localhost:8080/"
        },
        "id": "pR2iQz0YONv3",
        "outputId": "b04dc336-8184-4901-c759-4c70a328fe27"
      },
      "source": [
        "df[\"ChestPainType\"].value_counts()"
      ],
      "execution_count": null,
      "outputs": [
        {
          "output_type": "execute_result",
          "data": {
            "text/plain": [
              "0    496\n",
              "2    203\n",
              "1    173\n",
              "3     46\n",
              "Name: ChestPainType, dtype: int64"
            ]
          },
          "metadata": {},
          "execution_count": 20
        }
      ]
    },
    {
      "cell_type": "code",
      "metadata": {
        "colab": {
          "base_uri": "https://localhost:8080/",
          "height": 394
        },
        "id": "eDJsLfnCOR_5",
        "outputId": "22110e6b-849b-4945-9b29-bdb3fa61a37a"
      },
      "source": [
        "f, ax = plt.subplots(figsize=(8, 6))\n",
        "ax = sns.countplot(x=\"ChestPainType\", data=df)\n",
        "plt.show()"
      ],
      "execution_count": null,
      "outputs": [
        {
          "output_type": "display_data",
          "data": {
            "image/png": "[encoded data removed]",
            "text/plain": [
              "<Figure size 576x432 with 1 Axes>"
            ]
          },
          "metadata": {
            "needs_background": "light"
          }
        }
      ]
    },
    {
      "cell_type": "code",
      "metadata": {
        "colab": {
          "base_uri": "https://localhost:8080/",
          "height": 394
        },
        "id": "D78qNLHNOXS-",
        "outputId": "501fd52c-bd5c-48fd-87f9-249a7bcb7007"
      },
      "source": [
        "# df.groupby('ChestPainType')['HeartDisease'].value_counts()\n",
        "f, ax = plt.subplots(figsize=(8, 6))\n",
        "ax = sns.countplot(x=\"ChestPainType\", hue=\"HeartDisease\", data=df)\n",
        "plt.show()"
      ],
      "execution_count": null,
      "outputs": [
        {
          "output_type": "display_data",
          "data": {
            "image/png": "[encoded data removed]",
            "text/plain": [
              "<Figure size 576x432 with 1 Axes>"
            ]
          },
          "metadata": {
            "needs_background": "light"
          }
        }
      ]
    },
    {
      "cell_type": "code",
      "metadata": {
        "colab": {
          "base_uri": "https://localhost:8080/",
          "height": 203
        },
        "id": "ugSoyjpIOac8",
        "outputId": "e6ef330e-82b1-4e48-bedb-1257a222cca0"
      },
      "source": [
        "df.head()"
      ],
      "execution_count": null,
      "outputs": [
        {
          "output_type": "execute_result",
          "data": {
            "text/html": [
              "<div>\n",
              "<style scoped>\n",
              "    .dataframe tbody tr th:only-of-type {\n",
              "        vertical-align: middle;\n",
              "    }\n",
              "\n",
              "    .dataframe tbody tr th {\n",
              "        vertical-align: top;\n",
              "    }\n",
              "\n",
              "    .dataframe thead th {\n",
              "        text-align: right;\n",
              "    }\n",
              "</style>\n",
              "<table border=\"1\" class=\"dataframe\">\n",
              "  <thead>\n",
              "    <tr style=\"text-align: right;\">\n",
              "      <th></th>\n",
              "      <th>Age</th>\n",
              "      <th>Sex</th>\n",
              "      <th>ChestPainType</th>\n",
              "      <th>RestingBP</th>\n",
              "      <th>Cholesterol</th>\n",
              "      <th>FastingBS</th>\n",
              "      <th>RestingECG</th>\n",
              "      <th>MaxHR</th>\n",
              "      <th>ExerciseAngina</th>\n",
              "      <th>Oldpeak</th>\n",
              "      <th>ST_Slope</th>\n",
              "      <th>HeartDisease</th>\n",
              "    </tr>\n",
              "  </thead>\n",
              "  <tbody>\n",
              "    <tr>\n",
              "      <th>0</th>\n",
              "      <td>40</td>\n",
              "      <td>1</td>\n",
              "      <td>1</td>\n",
              "      <td>140</td>\n",
              "      <td>289</td>\n",
              "      <td>0</td>\n",
              "      <td>1</td>\n",
              "      <td>172</td>\n",
              "      <td>0</td>\n",
              "      <td>0.0</td>\n",
              "      <td>2</td>\n",
              "      <td>0</td>\n",
              "    </tr>\n",
              "    <tr>\n",
              "      <th>1</th>\n",
              "      <td>49</td>\n",
              "      <td>0</td>\n",
              "      <td>2</td>\n",
              "      <td>160</td>\n",
              "      <td>180</td>\n",
              "      <td>0</td>\n",
              "      <td>1</td>\n",
              "      <td>156</td>\n",
              "      <td>0</td>\n",
              "      <td>1.0</td>\n",
              "      <td>1</td>\n",
              "      <td>1</td>\n",
              "    </tr>\n",
              "    <tr>\n",
              "      <th>2</th>\n",
              "      <td>37</td>\n",
              "      <td>1</td>\n",
              "      <td>1</td>\n",
              "      <td>130</td>\n",
              "      <td>283</td>\n",
              "      <td>0</td>\n",
              "      <td>2</td>\n",
              "      <td>98</td>\n",
              "      <td>0</td>\n",
              "      <td>0.0</td>\n",
              "      <td>2</td>\n",
              "      <td>0</td>\n",
              "    </tr>\n",
              "    <tr>\n",
              "      <th>3</th>\n",
              "      <td>48</td>\n",
              "      <td>0</td>\n",
              "      <td>0</td>\n",
              "      <td>138</td>\n",
              "      <td>214</td>\n",
              "      <td>0</td>\n",
              "      <td>1</td>\n",
              "      <td>108</td>\n",
              "      <td>1</td>\n",
              "      <td>1.5</td>\n",
              "      <td>1</td>\n",
              "      <td>1</td>\n",
              "    </tr>\n",
              "    <tr>\n",
              "      <th>4</th>\n",
              "      <td>54</td>\n",
              "      <td>1</td>\n",
              "      <td>2</td>\n",
              "      <td>150</td>\n",
              "      <td>195</td>\n",
              "      <td>0</td>\n",
              "      <td>1</td>\n",
              "      <td>122</td>\n",
              "      <td>0</td>\n",
              "      <td>0.0</td>\n",
              "      <td>2</td>\n",
              "      <td>0</td>\n",
              "    </tr>\n",
              "  </tbody>\n",
              "</table>\n",
              "</div>"
            ],
            "text/plain": [
              "   Age  Sex  ChestPainType  ...  Oldpeak  ST_Slope  HeartDisease\n",
              "0   40    1              1  ...      0.0         2             0\n",
              "1   49    0              2  ...      1.0         1             1\n",
              "2   37    1              1  ...      0.0         2             0\n",
              "3   48    0              0  ...      1.5         1             1\n",
              "4   54    1              2  ...      0.0         2             0\n",
              "\n",
              "[5 rows x 12 columns]"
            ]
          },
          "metadata": {},
          "execution_count": 23
        }
      ]
    },
    {
      "cell_type": "code",
      "metadata": {
        "colab": {
          "base_uri": "https://localhost:8080/",
          "height": 793
        },
        "id": "kZx918nzOdOQ",
        "outputId": "a3ca47d9-939d-4320-80de-87c58e79ff9f"
      },
      "source": [
        "plt.figure(figsize=(16,12))\n",
        "plt.title('Correlation Heatmap of Heart Disease Dataset')\n",
        "a = sns.heatmap(correlation, square=True, annot=True, fmt='.2f', linecolor='white')\n",
        "a.set_xticklabels(a.get_xticklabels(), rotation=90)\n",
        "a.set_yticklabels(a.get_yticklabels(), rotation=30)           \n",
        "plt.show()"
      ],
      "execution_count": null,
      "outputs": [
        {
          "output_type": "display_data",
          "data": {
            "image/png": "[encoded data removed]",
            "text/plain": [
              "<Figure size 1152x864 with 2 Axes>"
            ]
          },
          "metadata": {
            "needs_background": "light"
          }
        }
      ]
    },
    {
      "cell_type": "code",
      "metadata": {
        "colab": {
          "base_uri": "https://localhost:8080/",
          "height": 1000
        },
        "id": "tSOAch9-Oeos",
        "outputId": "e58e0c39-a29b-4b31-a8fa-462bed9ecc97"
      },
      "source": [
        "num_var = ['Age', 'RestingBP', 'Cholesterol', 'MaxHR', 'Oldpeak', 'HeartDisease' ]\n",
        "sns.pairplot(df[num_var], kind='scatter', diag_kind='hist')\n",
        "plt.show()"
      ],
      "execution_count": null,
      "outputs": [
        {
          "output_type": "display_data",
          "data": {
            "image/png": "[encoded data removed]",
            "text/plain": [
              "<Figure size 1080x1080 with 42 Axes>"
            ]
          },
          "metadata": {
            "needs_background": "light"
          }
        }
      ]
    },
    {
      "cell_type": "code",
      "metadata": {
        "colab": {
          "base_uri": "https://localhost:8080/"
        },
        "id": "xneJRX6bOlqt",
        "outputId": "687eef0c-ce95-4276-d6d2-89427e11f926"
      },
      "source": [
        "df.isnull().sum()"
      ],
      "execution_count": null,
      "outputs": [
        {
          "output_type": "execute_result",
          "data": {
            "text/plain": [
              "Age               0\n",
              "Sex               0\n",
              "ChestPainType     0\n",
              "RestingBP         0\n",
              "Cholesterol       0\n",
              "FastingBS         0\n",
              "RestingECG        0\n",
              "MaxHR             0\n",
              "ExerciseAngina    0\n",
              "Oldpeak           0\n",
              "ST_Slope          0\n",
              "HeartDisease      0\n",
              "dtype: int64"
            ]
          },
          "metadata": {},
          "execution_count": 26
        }
      ]
    },
    {
      "cell_type": "code",
      "metadata": {
        "colab": {
          "base_uri": "https://localhost:8080/",
          "height": 394
        },
        "id": "EoGF0ep5OogQ",
        "outputId": "11e5305c-dd47-4fd5-d41b-4a23834c3210"
      },
      "source": [
        "f, ax = plt.subplots(figsize=(8, 6))\n",
        "sns.boxplot(x=df[\"Age\"])\n",
        "plt.show()"
      ],
      "execution_count": null,
      "outputs": [
        {
          "output_type": "display_data",
          "data": {
            "image/png": "[encoded data removed]",
            "text/plain": [
              "<Figure size 576x432 with 1 Axes>"
            ]
          },
          "metadata": {
            "needs_background": "light"
          }
        }
      ]
    },
    {
      "cell_type": "code",
      "metadata": {
        "colab": {
          "base_uri": "https://localhost:8080/",
          "height": 394
        },
        "id": "EbfXS49_OrcR",
        "outputId": "5ebae174-b3e5-4bfc-cee7-c22f7d88caa3"
      },
      "source": [
        "f, ax = plt.subplots(figsize=(8, 6))\n",
        "sns.boxplot(x=df[\"RestingBP\"])\n",
        "plt.show()"
      ],
      "execution_count": null,
      "outputs": [
        {
          "output_type": "display_data",
          "data": {
            "image/png": "[encoded data removed]",
            "text/plain": [
              "<Figure size 576x432 with 1 Axes>"
            ]
          },
          "metadata": {
            "needs_background": "light"
          }
        }
      ]
    },
    {
      "cell_type": "code",
      "metadata": {
        "colab": {
          "base_uri": "https://localhost:8080/",
          "height": 394
        },
        "id": "luhWcMqoOuhw",
        "outputId": "9b084390-f298-44cf-9897-7d9f4ea93edb"
      },
      "source": [
        "f, ax = plt.subplots(figsize=(8, 6))\n",
        "sns.boxplot(x=df[\"Cholesterol\"])\n",
        "plt.show()"
      ],
      "execution_count": null,
      "outputs": [
        {
          "output_type": "display_data",
          "data": {
            "image/png": "[encoded data removed]",
            "text/plain": [
              "<Figure size 576x432 with 1 Axes>"
            ]
          },
          "metadata": {
            "needs_background": "light"
          }
        }
      ]
    },
    {
      "cell_type": "code",
      "metadata": {
        "colab": {
          "base_uri": "https://localhost:8080/",
          "height": 394
        },
        "id": "Ay1dDnBYOzA9",
        "outputId": "27eece6c-5031-432e-dddd-57d24b6838de"
      },
      "source": [
        "f, ax = plt.subplots(figsize=(8, 6))\n",
        "sns.boxplot(x=df[\"RestingECG\"])\n",
        "plt.show()"
      ],
      "execution_count": null,
      "outputs": [
        {
          "output_type": "display_data",
          "data": {
            "image/png": "[encoded data removed]",
            "text/plain": [
              "<Figure size 576x432 with 1 Axes>"
            ]
          },
          "metadata": {
            "needs_background": "light"
          }
        }
      ]
    },
    {
      "cell_type": "code",
      "metadata": {
        "colab": {
          "base_uri": "https://localhost:8080/",
          "height": 394
        },
        "id": "kTArvqSZO0o8",
        "outputId": "772bea2c-fe1a-407b-bf5f-a0c367c07ba5"
      },
      "source": [
        "f, ax = plt.subplots(figsize=(8, 6))\n",
        "sns.boxplot(x=df[\"MaxHR\"])\n",
        "plt.show()"
      ],
      "execution_count": null,
      "outputs": [
        {
          "output_type": "display_data",
          "data": {
            "image/png": "[encoded data removed]",
            "text/plain": [
              "<Figure size 576x432 with 1 Axes>"
            ]
          },
          "metadata": {
            "needs_background": "light"
          }
        }
      ]
    },
    {
      "cell_type": "code",
      "metadata": {
        "colab": {
          "base_uri": "https://localhost:8080/",
          "height": 394
        },
        "id": "6bmoqGmwO3Us",
        "outputId": "5fafec9f-03bb-47a8-e491-9086a398f13a"
      },
      "source": [
        "f, ax = plt.subplots(figsize=(8, 6))\n",
        "sns.boxplot(x=df[\"Oldpeak\"])\n",
        "plt.show()"
      ],
      "execution_count": null,
      "outputs": [
        {
          "output_type": "display_data",
          "data": {
            "image/png": "[encoded data removed]",
            "text/plain": [
              "<Figure size 576x432 with 1 Axes>"
            ]
          },
          "metadata": {
            "needs_background": "light"
          }
        }
      ]
    },
    {
      "cell_type": "code",
      "metadata": {
        "colab": {
          "base_uri": "https://localhost:8080/"
        },
        "id": "KaOePP0GO6d4",
        "outputId": "5043211c-b366-4c49-bbd3-bb4e739fa6cf"
      },
      "source": [
        "print(df)"
      ],
      "execution_count": null,
      "outputs": [
        {
          "output_type": "stream",
          "name": "stdout",
          "text": [
            "     Age  Sex  ChestPainType  ...  Oldpeak  ST_Slope  HeartDisease\n",
            "0     40    1              1  ...      0.0         2             0\n",
            "1     49    0              2  ...      1.0         1             1\n",
            "2     37    1              1  ...      0.0         2             0\n",
            "3     48    0              0  ...      1.5         1             1\n",
            "4     54    1              2  ...      0.0         2             0\n",
            "..   ...  ...            ...  ...      ...       ...           ...\n",
            "913   45    1              3  ...      1.2         1             1\n",
            "914   68    1              0  ...      3.4         1             1\n",
            "915   57    1              0  ...      1.2         1             1\n",
            "916   57    0              1  ...      0.0         1             1\n",
            "917   38    1              2  ...      0.0         2             0\n",
            "\n",
            "[918 rows x 12 columns]\n"
          ]
        }
      ]
    },
    {
      "cell_type": "code",
      "metadata": {
        "id": "IiigDEpIO_B0"
      },
      "source": [
        "X = df.iloc[:, 0:11].values\n",
        "y = df.iloc[:, 11].values"
      ],
      "execution_count": null,
      "outputs": []
    },
    {
      "cell_type": "markdown",
      "metadata": {
        "id": "6eoxni6HPqIh"
      },
      "source": [
        "# **Training w/ Orginal Dataset (without Removing Outliers) but with Z-score Normalization, Tuning with 5 folds Cross Validation**"
      ]
    },
    {
      "cell_type": "markdown",
      "metadata": {
        "id": "_KMxSPO-vfe4"
      },
      "source": [
        "**Data Normalization using z-score formula**"
      ]
    },
    {
      "cell_type": "code",
      "metadata": {
        "id": "WxLyOsBdiEKb"
      },
      "source": [
        "# Feature Scaling\n",
        "from sklearn.model_selection import GridSearchCV\n",
        "from sklearn.preprocessing import StandardScaler\n",
        "from sklearn.preprocessing import StandardScaler\n",
        "from sklearn.model_selection import StratifiedKFold\n",
        "from sklearn.model_selection import cross_val_score\n",
        "from sklearn.model_selection import GridSearchCV\n",
        "from statistics import mean\n",
        "\n",
        "# Normalize values using z-score formula z = (x - mean) / standard deviation\n",
        "sc = StandardScaler()\n",
        "normalized_X = sc.fit_transform(X)"
      ],
      "execution_count": null,
      "outputs": []
    },
    {
      "cell_type": "code",
      "metadata": {
        "id": "Z1Pch3rJP5E-"
      },
      "source": [
        "from sklearn.model_selection import train_test_split\n",
        "\n",
        "X_train, X_test, y_train, y_test = train_test_split(normalized_X, y, test_size=0.2, random_state=0)"
      ],
      "execution_count": null,
      "outputs": []
    },
    {
      "cell_type": "code",
      "metadata": {
        "colab": {
          "base_uri": "https://localhost:8080/"
        },
        "id": "XqArc-LBQADs",
        "outputId": "e51606fa-9937-40df-e842-80c39dc088a1"
      },
      "source": [
        "y_test"
      ],
      "execution_count": null,
      "outputs": [
        {
          "output_type": "execute_result",
          "data": {
            "text/plain": [
              "array([1, 0, 1, 1, 0, 0, 0, 0, 0, 0, 1, 0, 1, 1, 0, 1, 1, 1, 1, 0, 1, 1,\n",
              "       1, 1, 0, 0, 1, 1, 0, 0, 1, 0, 0, 0, 1, 0, 1, 0, 1, 0, 0, 1, 1, 0,\n",
              "       1, 0, 0, 1, 1, 1, 1, 0, 0, 1, 1, 0, 1, 0, 1, 0, 1, 1, 1, 0, 1, 1,\n",
              "       1, 1, 1, 0, 1, 1, 1, 1, 1, 1, 1, 0, 1, 0, 0, 1, 0, 0, 1, 0, 0, 1,\n",
              "       1, 0, 0, 1, 0, 1, 1, 0, 1, 0, 0, 0, 1, 1, 0, 1, 1, 1, 0, 0, 0, 1,\n",
              "       0, 1, 0, 1, 1, 1, 1, 0, 1, 1, 1, 1, 1, 0, 0, 1, 0, 1, 0, 1, 1, 1,\n",
              "       0, 1, 1, 1, 0, 1, 0, 0, 1, 1, 0, 1, 0, 0, 1, 1, 1, 1, 1, 1, 0, 0,\n",
              "       0, 0, 1, 1, 1, 0, 1, 1, 1, 0, 1, 0, 1, 0, 1, 1, 1, 1, 0, 0, 1, 0,\n",
              "       0, 1, 0, 1, 1, 1, 0, 1])"
            ]
          },
          "metadata": {},
          "execution_count": 37
        }
      ]
    },
    {
      "cell_type": "code",
      "metadata": {
        "colab": {
          "base_uri": "https://localhost:8080/"
        },
        "id": "tMRAjUSQQtmK",
        "outputId": "c2777b67-1dcf-4b96-f98e-e2a91119a55c"
      },
      "source": [
        "X_test"
      ],
      "execution_count": null,
      "outputs": [
        {
          "output_type": "execute_result",
          "data": {
            "text/plain": [
              "array([[ 0.15795389,  0.51595242, -0.81699495, ..., -0.8235563 ,\n",
              "        -0.7386228 , -0.59607813],\n",
              "       [ 1.32475593,  0.51595242, -0.81699495, ..., -0.8235563 ,\n",
              "        -0.45719402, -0.59607813],\n",
              "       [-0.26633776,  0.51595242, -0.81699495, ..., -0.8235563 ,\n",
              "        -0.83243239, -0.59607813],\n",
              "       ...,\n",
              "       [-0.16026485,  0.51595242, -0.81699495, ..., -0.8235563 ,\n",
              "        -0.83243239,  1.05211381],\n",
              "       [-1.75135854,  0.51595242,  0.22903206, ..., -0.8235563 ,\n",
              "        -0.83243239,  1.05211381],\n",
              "       [-0.05419193,  0.51595242,  1.27505906, ...,  1.21424608,\n",
              "        -0.83243239, -0.59607813]])"
            ]
          },
          "metadata": {},
          "execution_count": 38
        }
      ]
    },
    {
      "cell_type": "markdown",
      "metadata": {
        "id": "nHXySEIyTHpP"
      },
      "source": [
        "**Random Forest Classifier**"
      ]
    },
    {
      "cell_type": "code",
      "metadata": {
        "colab": {
          "base_uri": "https://localhost:8080/"
        },
        "id": "HC6ar_3cTFrk",
        "outputId": "22393f87-63ce-4e11-ae77-00ec2a27f524"
      },
      "source": [
        "from sklearn.ensemble import RandomForestClassifier\n",
        "\n",
        "regressor = RandomForestClassifier()\n",
        "skf = StratifiedKFold(n_splits=5, shuffle=True)\n",
        "lst_accu_stratified = []\n",
        "\n",
        "for train_index, tune_index in skf.split(X_train, y_train):\n",
        "    data_train_fold, data_tune_fold = X_train[train_index], X_train[tune_index]\n",
        "    label_train_fold, label_tune_fold = y_train[train_index], y_train[tune_index]\n",
        "    regressor.fit(data_train_fold, label_train_fold)\n",
        "    lst_accu_stratified.append(regressor.score(data_tune_fold, label_tune_fold))\n",
        "print(\"Default validation accuracy for Random Forest Classifier:\", mean(lst_accu_stratified))"
      ],
      "execution_count": null,
      "outputs": [
        {
          "output_type": "stream",
          "name": "stdout",
          "text": [
            "Default validation accuracy for Random Forest Classifier: 0.8759575062901873\n"
          ]
        }
      ]
    },
    {
      "cell_type": "code",
      "metadata": {
        "colab": {
          "base_uri": "https://localhost:8080/"
        },
        "id": "ORti-PoetR3K",
        "outputId": "8d323312-5da5-443e-d71a-2f994ab191b6"
      },
      "source": [
        "estimator_list = dict(n_estimators=range(1,50))\n",
        "grid_regressor = GridSearchCV(RandomForestClassifier(), param_grid=estimator_list, cv=skf)\n",
        "grid_regressor.fit(X_train, y_train)\n",
        "print(\"The best parameters for Random Forest model are %s with a tuned validation accuracy score of %f\" % (grid_regressor.best_params_, grid_regressor.best_score_))"
      ],
      "execution_count": null,
      "outputs": [
        {
          "output_type": "stream",
          "name": "stdout",
          "text": [
            "The best parameters for Random Forest model are {'n_estimators': 31} with a tuned validation accuracy score of 0.876004\n"
          ]
        }
      ]
    },
    {
      "cell_type": "code",
      "metadata": {
        "id": "mws_dH4Hgvla"
      },
      "source": [
        "y_pred = grid_regressor.predict(X_test)"
      ],
      "execution_count": null,
      "outputs": []
    },
    {
      "cell_type": "code",
      "metadata": {
        "colab": {
          "base_uri": "https://localhost:8080/"
        },
        "id": "IZXWcF7VTTcu",
        "outputId": "f6ee8b2f-caa6-455f-bc71-b0c9876b2617"
      },
      "source": [
        "y_pred"
      ],
      "execution_count": null,
      "outputs": [
        {
          "output_type": "execute_result",
          "data": {
            "text/plain": [
              "array([1, 1, 1, 1, 0, 0, 0, 0, 0, 0, 1, 1, 1, 1, 0, 1, 1, 1, 1, 0, 1, 1,\n",
              "       1, 1, 0, 0, 1, 1, 1, 1, 1, 0, 0, 0, 1, 0, 1, 0, 0, 0, 0, 1, 1, 0,\n",
              "       1, 0, 0, 1, 1, 0, 1, 0, 0, 1, 1, 1, 1, 0, 1, 0, 1, 1, 1, 0, 1, 1,\n",
              "       1, 1, 1, 0, 1, 1, 0, 1, 1, 1, 1, 0, 1, 1, 1, 1, 0, 0, 1, 0, 1, 1,\n",
              "       1, 0, 0, 1, 0, 0, 1, 0, 1, 0, 0, 0, 1, 1, 1, 1, 1, 1, 0, 0, 0, 1,\n",
              "       0, 1, 1, 1, 1, 1, 1, 0, 1, 1, 1, 1, 1, 0, 0, 0, 0, 0, 0, 1, 0, 1,\n",
              "       1, 1, 1, 0, 1, 1, 0, 0, 0, 1, 0, 1, 0, 0, 1, 1, 1, 1, 0, 1, 1, 0,\n",
              "       0, 0, 1, 1, 1, 0, 0, 1, 1, 1, 1, 1, 1, 0, 1, 1, 1, 1, 0, 0, 1, 0,\n",
              "       1, 1, 0, 1, 1, 0, 0, 1])"
            ]
          },
          "metadata": {},
          "execution_count": 42
        }
      ]
    },
    {
      "cell_type": "code",
      "metadata": {
        "colab": {
          "base_uri": "https://localhost:8080/"
        },
        "id": "5wcCFTAzTXFo",
        "outputId": "0ccf26d2-3944-4e68-cfc0-34b396eccb50"
      },
      "source": [
        "from sklearn import metrics\n",
        "\n",
        "print('Mean Absolute Error:', metrics.mean_absolute_error(y_test, y_pred))\n",
        "print('Mean Squared Error:', metrics.mean_squared_error(y_test, y_pred))\n",
        "print('Root Mean Squared Error:', np.sqrt(metrics.mean_squared_error(y_test, y_pred)))"
      ],
      "execution_count": null,
      "outputs": [
        {
          "output_type": "stream",
          "name": "stdout",
          "text": [
            "Mean Absolute Error: 0.15217391304347827\n",
            "Mean Squared Error: 0.15217391304347827\n",
            "Root Mean Squared Error: 0.39009474880274697\n"
          ]
        }
      ]
    },
    {
      "cell_type": "code",
      "metadata": {
        "colab": {
          "base_uri": "https://localhost:8080/"
        },
        "id": "dKsBxSwbTc0O",
        "outputId": "76825f86-5f85-455f-9027-20f7de81e520"
      },
      "source": [
        "from sklearn.metrics import classification_report, confusion_matrix, accuracy_score\n",
        "\n",
        "print(confusion_matrix(y_test,y_pred))\n",
        "print(classification_report(y_test,y_pred))\n",
        "\n",
        "#Accuracy of the model using tuned hyperparameters\n",
        "print(accuracy_score(y_test, y_pred))"
      ],
      "execution_count": null,
      "outputs": [
        {
          "output_type": "stream",
          "name": "stdout",
          "text": [
            "[[61 16]\n",
            " [12 95]]\n",
            "              precision    recall  f1-score   support\n",
            "\n",
            "           0       0.84      0.79      0.81        77\n",
            "           1       0.86      0.89      0.87       107\n",
            "\n",
            "    accuracy                           0.85       184\n",
            "   macro avg       0.85      0.84      0.84       184\n",
            "weighted avg       0.85      0.85      0.85       184\n",
            "\n",
            "0.8478260869565217\n"
          ]
        }
      ]
    },
    {
      "cell_type": "code",
      "metadata": {
        "colab": {
          "base_uri": "https://localhost:8080/"
        },
        "id": "yM-iJgk65u0u",
        "outputId": "53d43796-ea78-4d26-d024-6adbc69b8948"
      },
      "source": [
        "# Accuracy of the model using default hyperparameters\n",
        "y_pred = regressor.predict(X_test)\n",
        "print(accuracy_score(y_test, y_pred))"
      ],
      "execution_count": null,
      "outputs": [
        {
          "output_type": "stream",
          "name": "stdout",
          "text": [
            "0.8532608695652174\n"
          ]
        }
      ]
    },
    {
      "cell_type": "markdown",
      "metadata": {
        "id": "MyRxsCLHTjJN"
      },
      "source": [
        "**Support Vector Machine**"
      ]
    },
    {
      "cell_type": "code",
      "metadata": {
        "colab": {
          "base_uri": "https://localhost:8080/"
        },
        "id": "EdN49CoxThk8",
        "outputId": "74568807-890a-4844-8c82-760c1e6f6d72"
      },
      "source": [
        "from sklearn.svm import SVC\n",
        "\n",
        "skf = StratifiedKFold(n_splits=5, shuffle=True)\n",
        "\n",
        "# Run Suport vector machine with rbf kernel\n",
        "svc_model = SVC(kernel='rbf')\n",
        "lst_accu_stratified = []\n",
        "for train_index, tune_index in skf.split(X_train, y_train):\n",
        "    data_train_fold, data_tune_fold = X_train[train_index], X_train[tune_index]\n",
        "    label_train_fold, label_tune_fold = y_train[train_index], y_train[tune_index]\n",
        "    svc_model.fit(data_train_fold, label_train_fold)\n",
        "    lst_accu_stratified.append(svc_model.score(data_tune_fold, label_tune_fold))\n",
        "print(\"Default validation accuracy for SVM:\", mean(lst_accu_stratified))"
      ],
      "execution_count": null,
      "outputs": [
        {
          "output_type": "stream",
          "name": "stdout",
          "text": [
            "Default validation accuracy for SVM: 0.8719131488211723\n"
          ]
        }
      ]
    },
    {
      "cell_type": "code",
      "metadata": {
        "colab": {
          "base_uri": "https://localhost:8080/"
        },
        "id": "JelJtnkqpoTE",
        "outputId": "1379cb5c-88a5-4e3e-adba-02e365e05e57"
      },
      "source": [
        "#Run SVM with give hyperparameters\n",
        "C_range = []\n",
        "gamma_range = []\n",
        "\n",
        "for x in range(-5, 6):\n",
        "    C_range.append(pow(10, x))\n",
        "    gamma_range.append(pow(10, x))\n",
        "    \n",
        "param_grid = dict(gamma=gamma_range, C=C_range)\n",
        "grid_svc = GridSearchCV(SVC(kernel='rbf'), param_grid=param_grid, cv=skf)\n",
        "grid_svc.fit(X_train, y_train)\n",
        "print(\"The best parameters for SVM model are %s with a tuned validation accuracy score of %f\" % (grid_svc.best_params_, grid_svc.best_score_))"
      ],
      "execution_count": null,
      "outputs": [
        {
          "output_type": "stream",
          "name": "stdout",
          "text": [
            "The best parameters for SVM model are {'C': 1, 'gamma': 0.1} with a tuned validation accuracy score of 0.875976\n"
          ]
        }
      ]
    },
    {
      "cell_type": "code",
      "metadata": {
        "colab": {
          "base_uri": "https://localhost:8080/"
        },
        "id": "2JH_3FD-qNvt",
        "outputId": "c85cffcb-5549-405a-c479-f3dbce80a420"
      },
      "source": [
        "from sklearn import metrics\n",
        "\n",
        "y_pred = grid_svc.predict(X_test)\n",
        "print('Mean Absolute Error:', metrics.mean_absolute_error(y_test, y_pred))\n",
        "print('Mean Squared Error:', metrics.mean_squared_error(y_test, y_pred))\n",
        "print('Root Mean Squared Error:', np.sqrt(metrics.mean_squared_error(y_test, y_pred)))"
      ],
      "execution_count": null,
      "outputs": [
        {
          "output_type": "stream",
          "name": "stdout",
          "text": [
            "Mean Absolute Error: 0.1358695652173913\n",
            "Mean Squared Error: 0.1358695652173913\n",
            "Root Mean Squared Error: 0.3686048903872428\n"
          ]
        }
      ]
    },
    {
      "cell_type": "code",
      "metadata": {
        "colab": {
          "base_uri": "https://localhost:8080/"
        },
        "id": "YY98iJD-TwLc",
        "outputId": "9825f037-f488-47b8-afda-d98af4e45b23"
      },
      "source": [
        "from sklearn.metrics import classification_report, confusion_matrix, accuracy_score\n",
        "\n",
        "print(confusion_matrix(y_test,y_pred))\n",
        "print(classification_report(y_test,y_pred))\n",
        "\n",
        "#Accuracy of the model using tuned hyperparameters\n",
        "print(accuracy_score(y_test, y_pred))"
      ],
      "execution_count": null,
      "outputs": [
        {
          "output_type": "stream",
          "name": "stdout",
          "text": [
            "[[62 15]\n",
            " [10 97]]\n",
            "              precision    recall  f1-score   support\n",
            "\n",
            "           0       0.86      0.81      0.83        77\n",
            "           1       0.87      0.91      0.89       107\n",
            "\n",
            "    accuracy                           0.86       184\n",
            "   macro avg       0.86      0.86      0.86       184\n",
            "weighted avg       0.86      0.86      0.86       184\n",
            "\n",
            "0.8641304347826086\n"
          ]
        }
      ]
    },
    {
      "cell_type": "code",
      "metadata": {
        "colab": {
          "base_uri": "https://localhost:8080/"
        },
        "id": "jUpVRQJO5fsr",
        "outputId": "bb8695a3-ffb0-49df-9bc3-eed65a8cc8a7"
      },
      "source": [
        "#Accuracy of the model using default hyperparameters\n",
        "\n",
        "y_pred = svc_model.predict(X_test)\n",
        "print(accuracy_score(y_test, y_pred))"
      ],
      "execution_count": null,
      "outputs": [
        {
          "output_type": "stream",
          "name": "stdout",
          "text": [
            "0.8695652173913043\n"
          ]
        }
      ]
    },
    {
      "cell_type": "markdown",
      "metadata": {
        "id": "JlFJ2DOgT72G"
      },
      "source": [
        "**K nearest Neighbors**"
      ]
    },
    {
      "cell_type": "code",
      "metadata": {
        "colab": {
          "base_uri": "https://localhost:8080/"
        },
        "id": "-aGZ3DQjXDeq",
        "outputId": "a608fae3-fa52-4420-b592-a95e24723f63"
      },
      "source": [
        "from sklearn.neighbors import KNeighborsClassifier\n",
        "\n",
        "# Run Knn model with dedault parameters\n",
        "knn = KNeighborsClassifier()\n",
        "skf = StratifiedKFold(n_splits=5, shuffle=True)\n",
        "\n",
        "lst_accu_stratified = []\n",
        "for train_index, tune_index in skf.split(X_train, y_train):\n",
        "    data_train_fold, data_tune_fold = X_train[train_index], X_train[tune_index]\n",
        "    label_train_fold, label_tune_fold = y_train[train_index], y_train[tune_index]\n",
        "    knn.fit(data_train_fold, label_train_fold)\n",
        "    lst_accu_stratified.append(knn.score(data_tune_fold, label_tune_fold))\n",
        "print(\"Default validation accuracy for Knn:\", mean(lst_accu_stratified))"
      ],
      "execution_count": null,
      "outputs": [
        {
          "output_type": "stream",
          "name": "stdout",
          "text": [
            "Default validation accuracy for Knn: 0.856956481222626\n"
          ]
        }
      ]
    },
    {
      "cell_type": "code",
      "metadata": {
        "colab": {
          "base_uri": "https://localhost:8080/"
        },
        "id": "hyvVJCHvrVv7",
        "outputId": "5f7db737-80d1-4956-f852-eed7b7c8ed5f"
      },
      "source": [
        "# Run knn model with given parameters\n",
        "k_list = {'n_neighbors': range(1,50), 'weights': ['uniform', 'distance']}\n",
        "grid_knn = GridSearchCV(KNeighborsClassifier(), param_grid=k_list, cv=skf)\n",
        "grid_knn.fit(X_train, y_train)\n",
        "print(\"The best parameters for Knn model are %s with a tuned validation accuracy score of %f\" % (grid_knn.best_params_, grid_knn.best_score_))"
      ],
      "execution_count": null,
      "outputs": [
        {
          "output_type": "stream",
          "name": "stdout",
          "text": [
            "The best parameters for Knn model are {'n_neighbors': 18, 'weights': 'distance'} with a tuned validation accuracy score of 0.866462\n"
          ]
        }
      ]
    },
    {
      "cell_type": "code",
      "metadata": {
        "id": "klI8M_UUcFFQ"
      },
      "source": [
        "y_pred = grid_knn.predict(X_test)"
      ],
      "execution_count": null,
      "outputs": []
    },
    {
      "cell_type": "code",
      "metadata": {
        "colab": {
          "base_uri": "https://localhost:8080/"
        },
        "id": "UdaulxMgcuYu",
        "outputId": "dc116686-f701-4e88-aac8-5f4937531bda"
      },
      "source": [
        "print('Mean Absolute Error:', metrics.mean_absolute_error(y_test, y_pred))\n",
        "print('Mean Squared Error:', metrics.mean_squared_error(y_test, y_pred))\n",
        "print('Root Mean Squared Error:', np.sqrt(metrics.mean_squared_error(y_test, y_pred)))"
      ],
      "execution_count": null,
      "outputs": [
        {
          "output_type": "stream",
          "name": "stdout",
          "text": [
            "Mean Absolute Error: 0.15217391304347827\n",
            "Mean Squared Error: 0.15217391304347827\n",
            "Root Mean Squared Error: 0.39009474880274697\n"
          ]
        }
      ]
    },
    {
      "cell_type": "code",
      "metadata": {
        "colab": {
          "base_uri": "https://localhost:8080/"
        },
        "id": "d-FYpiOLdFay",
        "outputId": "6414d519-927e-4b64-a55b-2a2eb9ecda4d"
      },
      "source": [
        "print(confusion_matrix(y_test,y_pred))\n",
        "print(classification_report(y_test,y_pred))\n",
        "\n",
        "#Accuracy of the model using tuned hyperparameters\n",
        "print(accuracy_score(y_test, y_pred))"
      ],
      "execution_count": null,
      "outputs": [
        {
          "output_type": "stream",
          "name": "stdout",
          "text": [
            "[[65 12]\n",
            " [16 91]]\n",
            "              precision    recall  f1-score   support\n",
            "\n",
            "           0       0.80      0.84      0.82        77\n",
            "           1       0.88      0.85      0.87       107\n",
            "\n",
            "    accuracy                           0.85       184\n",
            "   macro avg       0.84      0.85      0.84       184\n",
            "weighted avg       0.85      0.85      0.85       184\n",
            "\n",
            "0.8478260869565217\n"
          ]
        }
      ]
    },
    {
      "cell_type": "code",
      "metadata": {
        "colab": {
          "base_uri": "https://localhost:8080/"
        },
        "id": "gAVFyIDb5Kxa",
        "outputId": "5772b9f8-6821-4717-b0a5-917af84553fc"
      },
      "source": [
        "#Accuracy of the model using default hyperparameters\n",
        "\n",
        "y_pred = knn.predict(X_test)\n",
        "print(accuracy_score(y_test, y_pred))"
      ],
      "execution_count": null,
      "outputs": [
        {
          "output_type": "stream",
          "name": "stdout",
          "text": [
            "0.8532608695652174\n"
          ]
        }
      ]
    },
    {
      "cell_type": "markdown",
      "metadata": {
        "id": "aC4US_8IdknH"
      },
      "source": [
        "**MLP Classifier**"
      ]
    },
    {
      "cell_type": "code",
      "metadata": {
        "colab": {
          "base_uri": "https://localhost:8080/"
        },
        "id": "vta5TPqNdvt7",
        "outputId": "b4331b54-cbca-4bd0-b376-795bbfbc775b"
      },
      "source": [
        "from sklearn.neural_network import MLPClassifier\n",
        "\n",
        "mlp = MLPClassifier()\n",
        "\n",
        "# Run MLP model with dedault parameters\n",
        "skf = StratifiedKFold(n_splits=5, shuffle=True)\n",
        "\n",
        "lst_accu_stratified = []\n",
        "for train_index, tune_index in skf.split(X_train, y_train):\n",
        "    data_train_fold, data_tune_fold = X_train[train_index], X_train[tune_index]\n",
        "    label_train_fold, label_tune_fold = y_train[train_index], y_train[tune_index]\n",
        "    mlp.fit(data_train_fold, label_train_fold)\n",
        "    lst_accu_stratified.append(mlp.score(data_tune_fold, label_tune_fold))\n",
        "print(\"Default validation accuracy for MLP:\", mean(lst_accu_stratified))"
      ],
      "execution_count": null,
      "outputs": [
        {
          "output_type": "stream",
          "name": "stdout",
          "text": [
            "Default validation accuracy for MLP: 0.8623800205013512\n"
          ]
        }
      ]
    },
    {
      "cell_type": "code",
      "metadata": {
        "id": "zP1an4NRd1GK"
      },
      "source": [
        "parameter_space = {\n",
        "    'max_iter': range(100, 500, 100),\n",
        "    'hidden_layer_sizes': [(50,50,50), (50,100,50), (100,)],\n",
        "    'alpha': [0.0001, 0.05],\n",
        "    'learning_rate': ['constant','adaptive'],\n",
        "    'activation': ['logistic', 'relu']\n",
        "}"
      ],
      "execution_count": null,
      "outputs": []
    },
    {
      "cell_type": "code",
      "metadata": {
        "colab": {
          "base_uri": "https://localhost:8080/"
        },
        "id": "PI1iJ3Jnw_mi",
        "outputId": "77d38a0f-1339-45e5-c1c6-845dec2b4f9d"
      },
      "source": [
        "grid_mlp = GridSearchCV(MLPClassifier(), param_grid=parameter_space, cv=skf)\n",
        "grid_mlp.fit(X_train, y_train)\n",
        "print(\"The best parameters for MLP model are %s with a tuned validation accuracy score of %f\" % (grid_mlp.best_params_, grid_mlp.best_score_))"
      ],
      "execution_count": null,
      "outputs": [
        {
          "output_type": "stream",
          "name": "stdout",
          "text": [
            "The best parameters for MLP model are {'activation': 'logistic', 'alpha': 0.0001, 'hidden_layer_sizes': (50, 50, 50), 'learning_rate': 'adaptive', 'max_iter': 300} with a tuned validation accuracy score of 0.866508\n"
          ]
        }
      ]
    },
    {
      "cell_type": "code",
      "metadata": {
        "id": "La_E1Au-d9l-"
      },
      "source": [
        "y_pred = grid_mlp.predict(X_test)"
      ],
      "execution_count": null,
      "outputs": []
    },
    {
      "cell_type": "code",
      "metadata": {
        "colab": {
          "base_uri": "https://localhost:8080/"
        },
        "id": "2fT9p9dN1pij",
        "outputId": "5407938c-1c5c-498e-993f-21ae064c02f9"
      },
      "source": [
        "print('Mean Absolute Error:', metrics.mean_absolute_error(y_test, y_pred))\n",
        "print('Mean Squared Error:', metrics.mean_squared_error(y_test, y_pred))\n",
        "print('Root Mean Squared Error:', np.sqrt(metrics.mean_squared_error(y_test, y_pred)))"
      ],
      "execution_count": null,
      "outputs": [
        {
          "output_type": "stream",
          "name": "stdout",
          "text": [
            "Mean Absolute Error: 0.16304347826086957\n",
            "Mean Squared Error: 0.16304347826086957\n",
            "Root Mean Squared Error: 0.4037864265436241\n"
          ]
        }
      ]
    },
    {
      "cell_type": "code",
      "metadata": {
        "colab": {
          "base_uri": "https://localhost:8080/"
        },
        "id": "II8A8_Uc1tWs",
        "outputId": "b41d82e3-ca03-4e77-d3b6-64219daac6bf"
      },
      "source": [
        "print(confusion_matrix(y_test,y_pred))\n",
        "print(classification_report(y_test,y_pred))\n",
        "\n",
        "#Accuracy of the model using tuned hyperparameters\n",
        "print(accuracy_score(y_test, y_pred))"
      ],
      "execution_count": null,
      "outputs": [
        {
          "output_type": "stream",
          "name": "stdout",
          "text": [
            "[[58 19]\n",
            " [11 96]]\n",
            "              precision    recall  f1-score   support\n",
            "\n",
            "           0       0.84      0.75      0.79        77\n",
            "           1       0.83      0.90      0.86       107\n",
            "\n",
            "    accuracy                           0.84       184\n",
            "   macro avg       0.84      0.83      0.83       184\n",
            "weighted avg       0.84      0.84      0.84       184\n",
            "\n",
            "0.8369565217391305\n"
          ]
        }
      ]
    },
    {
      "cell_type": "code",
      "metadata": {
        "colab": {
          "base_uri": "https://localhost:8080/"
        },
        "id": "mUytdkwr5BTk",
        "outputId": "16ed35b6-9739-4692-d6d1-4f62cdfd02e8"
      },
      "source": [
        "#Accuracy of the model using default hyperparameters\n",
        "\n",
        "y_pred = mlp.predict(X_test)\n",
        "print(accuracy_score(y_test, y_pred))"
      ],
      "execution_count": null,
      "outputs": [
        {
          "output_type": "stream",
          "name": "stdout",
          "text": [
            "0.8532608695652174\n"
          ]
        }
      ]
    },
    {
      "cell_type": "markdown",
      "metadata": {
        "id": "IfTsemkD2xmJ"
      },
      "source": [
        "**Ada Boost**"
      ]
    },
    {
      "cell_type": "code",
      "metadata": {
        "colab": {
          "base_uri": "https://localhost:8080/"
        },
        "id": "c5Y4QSG621qf",
        "outputId": "c0aa1428-838e-4372-b927-6053b4b5fdd7"
      },
      "source": [
        "from sklearn.ensemble import AdaBoostClassifier\n",
        "\n",
        "# svc=SVC(probability=True)        \n",
        "ada = AdaBoostClassifier()\n",
        "lst_accu_stratified = []\n",
        "\n",
        "for train_index, tune_index in skf.split(X_train, y_train):\n",
        "    data_train_fold, data_tune_fold = X_train[train_index], X_train[tune_index]\n",
        "    label_train_fold, label_tune_fold = y_train[train_index], y_train[tune_index]\n",
        "    ada.fit(data_train_fold, label_train_fold)\n",
        "    lst_accu_stratified.append(ada.score(data_tune_fold, label_tune_fold))\n",
        "print(\"Default validation accuracy for AdaBoost:\", mean(lst_accu_stratified))"
      ],
      "execution_count": null,
      "outputs": [
        {
          "output_type": "stream",
          "name": "stdout",
          "text": [
            "Default validation accuracy for AdaBoost: 0.8488118535085267\n"
          ]
        }
      ]
    },
    {
      "cell_type": "code",
      "metadata": {
        "id": "2Pey8cXk3FDn"
      },
      "source": [
        "parameter_space = {\n",
        "    'n_estimators': range(1, 121, 20),\n",
        "    'learning_rate': [0.05,0.1,0.2,0.3,0.5,0.7,1,1.2, 1.5, 1.7, 2.0, 2.5, 3.0]\n",
        "}"
      ],
      "execution_count": null,
      "outputs": []
    },
    {
      "cell_type": "code",
      "metadata": {
        "colab": {
          "base_uri": "https://localhost:8080/"
        },
        "id": "Fz_vDgnw3gB4",
        "outputId": "bc8ef38b-edf1-4a61-bc34-63302012a1b5"
      },
      "source": [
        "grid_ada = GridSearchCV(AdaBoostClassifier(), param_grid=parameter_space, cv=skf)\n",
        "grid_ada.fit(X_train, y_train)\n",
        "print(\"The best parameters for AdaBoost model are %s with a tuned validation accuracy score of %f\" % (grid_ada.best_params_, grid_ada.best_score_))"
      ],
      "execution_count": null,
      "outputs": [
        {
          "output_type": "stream",
          "name": "stdout",
          "text": [
            "The best parameters for AdaBoost model are {'learning_rate': 0.5, 'n_estimators': 41} with a tuned validation accuracy score of 0.871960\n"
          ]
        }
      ]
    },
    {
      "cell_type": "code",
      "metadata": {
        "colab": {
          "base_uri": "https://localhost:8080/"
        },
        "id": "T0Bw8MOu33S0",
        "outputId": "cccb9259-ab2c-4e1e-986a-e03063321782"
      },
      "source": [
        "y_pred = grid_ada.predict(X_test)\n",
        "print('Mean Absolute Error:', metrics.mean_absolute_error(y_test, y_pred))\n",
        "print('Mean Squared Error:', metrics.mean_squared_error(y_test, y_pred))\n",
        "print('Root Mean Squared Error:', np.sqrt(metrics.mean_squared_error(y_test, y_pred)))"
      ],
      "execution_count": null,
      "outputs": [
        {
          "output_type": "stream",
          "name": "stdout",
          "text": [
            "Mean Absolute Error: 0.16304347826086957\n",
            "Mean Squared Error: 0.16304347826086957\n",
            "Root Mean Squared Error: 0.4037864265436241\n"
          ]
        }
      ]
    },
    {
      "cell_type": "code",
      "metadata": {
        "colab": {
          "base_uri": "https://localhost:8080/"
        },
        "id": "D_aXAFne4Asi",
        "outputId": "974c6cc7-8420-4755-86b1-74ea0ecc594d"
      },
      "source": [
        "print(confusion_matrix(y_test,y_pred))\n",
        "print(classification_report(y_test,y_pred))\n",
        "\n",
        "#Accuracy of the model using tuned hyperparameters\n",
        "print(accuracy_score(y_test, y_pred))"
      ],
      "execution_count": null,
      "outputs": [
        {
          "output_type": "stream",
          "name": "stdout",
          "text": [
            "[[59 18]\n",
            " [12 95]]\n",
            "              precision    recall  f1-score   support\n",
            "\n",
            "           0       0.83      0.77      0.80        77\n",
            "           1       0.84      0.89      0.86       107\n",
            "\n",
            "    accuracy                           0.84       184\n",
            "   macro avg       0.84      0.83      0.83       184\n",
            "weighted avg       0.84      0.84      0.84       184\n",
            "\n",
            "0.8369565217391305\n"
          ]
        }
      ]
    },
    {
      "cell_type": "code",
      "metadata": {
        "colab": {
          "base_uri": "https://localhost:8080/"
        },
        "id": "pcE84Blj41FV",
        "outputId": "5794a339-4aaf-4308-a56c-cc88df01d71b"
      },
      "source": [
        "#Accuracy of the model using default hyperparameters\n",
        "\n",
        "y_pred = ada.predict(X_test)\n",
        "print(accuracy_score(y_test, y_pred))"
      ],
      "execution_count": null,
      "outputs": [
        {
          "output_type": "stream",
          "name": "stdout",
          "text": [
            "0.8315217391304348\n"
          ]
        }
      ]
    },
    {
      "cell_type": "markdown",
      "metadata": {
        "id": "JBPZoVkr8__i"
      },
      "source": [
        "# **Training w/ cleaner Dataset (removed outliers), Z-score Normalization, Tuning with 5 folds Cross Validation**"
      ]
    },
    {
      "cell_type": "markdown",
      "metadata": {
        "id": "8zeqUleaNhKf"
      },
      "source": [
        "***Remove Outliers of each class from the Training dataset (we don't touch the test set here)***"
      ]
    },
    {
      "cell_type": "code",
      "metadata": {
        "id": "XtWDsv669bZ6"
      },
      "source": [
        "from scipy import stats\n",
        "\n",
        "X_train_class_0 = []\n",
        "X_train_class_1 = []\n",
        "\n",
        "for i in range(len(y_train)):\n",
        "  if y_train[i] == 0:\n",
        "    X_train_class_0.append(X_train[i])\n",
        "  else:\n",
        "    X_train_class_1.append(X_train[i])\n",
        "\n",
        "centroid_class_0 = [0]* len(X_train_class_0[0]) #intialize with 11 columns\n",
        "\n",
        "for i in range(len(X_train_class_0)):\n",
        "  for g in range(len(X_train_class_0[i])):\n",
        "    centroid_class_0[g] += X_train_class_0[i][g]\n",
        "\n",
        "centroid_class_0 = [number/len(X_train_class_0) for number in centroid_class_0]\n",
        "                              \n",
        "centroid_class_1 = [0]* len(X_train_class_1[0]) #intialize with 11 columns\n",
        "\n",
        "for i in range(len(X_train_class_1)):\n",
        "  for g in range(len(X_train_class_1[i])):\n",
        "    centroid_class_1[g] += X_train_class_1[i][g]\n",
        "\n",
        "centroid_class_1 = [number/len(X_train_class_1) for number in centroid_class_1]\n",
        "\n",
        "centroid_class_0 = np.array(centroid_class_0)\n",
        "\n",
        "class_0_distances = []\n",
        "for data_point in X_train_class_0:\n",
        "  distance = np.linalg.norm(centroid_class_0 - data_point) #calculate Euclidian distance between centroid of the class and the data point\n",
        "  class_0_distances.append(distance)\n",
        "\n",
        "centroid_class_1 = np.array(centroid_class_1)\n",
        "\n",
        "class_1_distances = []\n",
        "for data_point in X_train_class_1:\n",
        "  distance = np.linalg.norm(centroid_class_1 - data_point) #calculate Euclidian distance between centroid of the class and the data point\n",
        "  class_1_distances.append(distance)\n",
        "\n",
        "z_class_0 = np.abs(stats.zscore(class_0_distances))\n",
        "z_class_1 = np.abs(stats.zscore(class_1_distances))\n",
        "\n",
        "cleaned_X_train_class_0 = []\n",
        "cleaned_X_train_class_1 = []\n",
        "\n",
        "for i in range(len(z_class_0)):\n",
        "  if z_class_0[i] < 2: #only take 95% of data, or within 2 standard deviations\n",
        "    cleaned_X_train_class_0.append(X_train_class_0[i])\n",
        "\n",
        "for i in range(len(z_class_1)):\n",
        "  if z_class_1[i] < 2: #only take 95% of data, or within 2 standard deviations\n",
        "    cleaned_X_train_class_1.append(X_train_class_1[i])\n",
        "\n",
        "y_train = [0]* len(cleaned_X_train_class_0) + [1]*len(cleaned_X_train_class_1)\n",
        "X_train = cleaned_X_train_class_0 + cleaned_X_train_class_1\n",
        "\n",
        "X_train = np.array(X_train)\n",
        "y_train = np.array(y_train)"
      ],
      "execution_count": null,
      "outputs": []
    },
    {
      "cell_type": "markdown",
      "metadata": {
        "id": "6GFCLapfNqWN"
      },
      "source": [
        "**Random Forest after removing Outliers**"
      ]
    },
    {
      "cell_type": "code",
      "metadata": {
        "colab": {
          "base_uri": "https://localhost:8080/"
        },
        "id": "v2tpNXe-N37V",
        "outputId": "4842a9a1-cffe-4f02-97f5-7f2423de89b9"
      },
      "source": [
        "regressor = RandomForestClassifier()\n",
        "skf = StratifiedKFold(n_splits=5, shuffle=True)\n",
        "lst_accu_stratified = []\n",
        "\n",
        "for train_index, tune_index in skf.split(X_train, y_train):\n",
        "    data_train_fold, data_tune_fold = X_train[train_index], X_train[tune_index]\n",
        "    label_train_fold, label_tune_fold = y_train[train_index], y_train[tune_index]\n",
        "    regressor.fit(data_train_fold, label_train_fold)\n",
        "    lst_accu_stratified.append(regressor.score(data_tune_fold, label_tune_fold))\n",
        "print(\"Default validation accuracy for Random Forest Classifier:\", mean(lst_accu_stratified))"
      ],
      "execution_count": null,
      "outputs": [
        {
          "output_type": "stream",
          "name": "stdout",
          "text": [
            "Default validation accuracy for Random Forest Classifier: 0.8760563380281691\n"
          ]
        }
      ]
    },
    {
      "cell_type": "code",
      "metadata": {
        "colab": {
          "base_uri": "https://localhost:8080/"
        },
        "id": "chThYsAWPWol",
        "outputId": "b42c9e78-16b1-44fa-9311-5c7b24e5cb50"
      },
      "source": [
        "estimator_list = dict(n_estimators=range(1,50))\n",
        "grid_regressor = GridSearchCV(RandomForestClassifier(), param_grid=estimator_list, cv=skf)\n",
        "grid_regressor.fit(X_train, y_train)\n",
        "print(\"The best parameters for Random Forest model are %s with a tuned validation accuracy score of %f\" % (grid_regressor.best_params_, grid_regressor.best_score_))"
      ],
      "execution_count": null,
      "outputs": [
        {
          "output_type": "stream",
          "name": "stdout",
          "text": [
            "The best parameters for Random Forest model are {'n_estimators': 34} with a tuned validation accuracy score of 0.891549\n"
          ]
        }
      ]
    },
    {
      "cell_type": "code",
      "metadata": {
        "colab": {
          "base_uri": "https://localhost:8080/"
        },
        "id": "y_4pMoA9Pk8I",
        "outputId": "9b32acba-9edb-443c-e5e5-af4c9287a86b"
      },
      "source": [
        "y_pred = grid_regressor.predict(X_test)\n",
        "\n",
        "print('Mean Absolute Error:', metrics.mean_absolute_error(y_test, y_pred))\n",
        "print('Mean Squared Error:', metrics.mean_squared_error(y_test, y_pred))\n",
        "print('Root Mean Squared Error:', np.sqrt(metrics.mean_squared_error(y_test, y_pred)))"
      ],
      "execution_count": null,
      "outputs": [
        {
          "output_type": "stream",
          "name": "stdout",
          "text": [
            "Mean Absolute Error: 0.15760869565217392\n",
            "Mean Squared Error: 0.15760869565217392\n",
            "Root Mean Squared Error: 0.39699961669021033\n"
          ]
        }
      ]
    },
    {
      "cell_type": "code",
      "metadata": {
        "colab": {
          "base_uri": "https://localhost:8080/"
        },
        "id": "Jil8OlfYPvUZ",
        "outputId": "1833d691-5b09-4a6c-8a9e-7111bc0db78f"
      },
      "source": [
        "print(confusion_matrix(y_test,y_pred))\n",
        "print(classification_report(y_test,y_pred))\n",
        "\n",
        "#Accuracy of the model using tuned hyperparameters\n",
        "print(accuracy_score(y_test, y_pred))"
      ],
      "execution_count": null,
      "outputs": [
        {
          "output_type": "stream",
          "name": "stdout",
          "text": [
            "[[60 17]\n",
            " [12 95]]\n",
            "              precision    recall  f1-score   support\n",
            "\n",
            "           0       0.83      0.78      0.81        77\n",
            "           1       0.85      0.89      0.87       107\n",
            "\n",
            "    accuracy                           0.84       184\n",
            "   macro avg       0.84      0.83      0.84       184\n",
            "weighted avg       0.84      0.84      0.84       184\n",
            "\n",
            "0.842391304347826\n"
          ]
        }
      ]
    },
    {
      "cell_type": "code",
      "metadata": {
        "colab": {
          "base_uri": "https://localhost:8080/"
        },
        "id": "U6cUTHDfP7ib",
        "outputId": "44d40f50-8294-4832-8fce-45754939086f"
      },
      "source": [
        "# Accuracy of the model using default hyperparameters\n",
        "y_pred = regressor.predict(X_test)\n",
        "print(accuracy_score(y_test, y_pred))"
      ],
      "execution_count": null,
      "outputs": [
        {
          "output_type": "stream",
          "name": "stdout",
          "text": [
            "0.8532608695652174\n"
          ]
        }
      ]
    },
    {
      "cell_type": "markdown",
      "metadata": {
        "id": "FkdmvfrdQxR_"
      },
      "source": [
        "**Support Vector Machine after removing Outliers**"
      ]
    },
    {
      "cell_type": "code",
      "metadata": {
        "colab": {
          "base_uri": "https://localhost:8080/"
        },
        "id": "1DyaYtfYQNjw",
        "outputId": "2c83f82c-554d-467a-c576-86f7ad78322c"
      },
      "source": [
        "skf = StratifiedKFold(n_splits=5, shuffle=True)\n",
        "\n",
        "# Run Suport vector machine with rbf kernel\n",
        "svc_model = SVC(kernel='rbf')\n",
        "lst_accu_stratified = []\n",
        "for train_index, tune_index in skf.split(X_train, y_train):\n",
        "    data_train_fold, data_tune_fold = X_train[train_index], X_train[tune_index]\n",
        "    label_train_fold, label_tune_fold = y_train[train_index], y_train[tune_index]\n",
        "    svc_model.fit(data_train_fold, label_train_fold)\n",
        "    lst_accu_stratified.append(svc_model.score(data_tune_fold, label_tune_fold))\n",
        "print(\"Default validation accuracy for SVM:\", mean(lst_accu_stratified))"
      ],
      "execution_count": null,
      "outputs": [
        {
          "output_type": "stream",
          "name": "stdout",
          "text": [
            "Default validation accuracy for SVM: 0.8788732394366198\n"
          ]
        }
      ]
    },
    {
      "cell_type": "code",
      "metadata": {
        "colab": {
          "base_uri": "https://localhost:8080/"
        },
        "id": "_Ci_1cPLQ12T",
        "outputId": "2eef91a1-95c4-44a1-e87f-45c6142898b9"
      },
      "source": [
        "#Run SVM with give hyperparameters\n",
        "C_range = []\n",
        "gamma_range = []\n",
        "\n",
        "for x in range(-5, 6):\n",
        "    C_range.append(pow(10, x))\n",
        "    gamma_range.append(pow(10, x))\n",
        "    \n",
        "param_grid = dict(gamma=gamma_range, C=C_range)\n",
        "grid_svc = GridSearchCV(SVC(kernel='rbf'), param_grid=param_grid, cv=skf)\n",
        "grid_svc.fit(X_train, y_train)\n",
        "print(\"The best parameters for SVM model are %s with a tuned validation accuracy score of %f\" % (grid_svc.best_params_, grid_svc.best_score_))"
      ],
      "execution_count": null,
      "outputs": [
        {
          "output_type": "stream",
          "name": "stdout",
          "text": [
            "The best parameters for SVM model are {'C': 1, 'gamma': 0.1} with a tuned validation accuracy score of 0.888732\n"
          ]
        }
      ]
    },
    {
      "cell_type": "code",
      "metadata": {
        "colab": {
          "base_uri": "https://localhost:8080/"
        },
        "id": "nYf3eE6lRKim",
        "outputId": "d21d0e28-2cbc-4885-baa8-65b50d313300"
      },
      "source": [
        "from sklearn import metrics\n",
        "\n",
        "y_pred = grid_svc.predict(X_test)\n",
        "print('Mean Absolute Error:', metrics.mean_absolute_error(y_test, y_pred))\n",
        "print('Mean Squared Error:', metrics.mean_squared_error(y_test, y_pred))\n",
        "print('Root Mean Squared Error:', np.sqrt(metrics.mean_squared_error(y_test, y_pred)))"
      ],
      "execution_count": null,
      "outputs": [
        {
          "output_type": "stream",
          "name": "stdout",
          "text": [
            "Mean Absolute Error: 0.1358695652173913\n",
            "Mean Squared Error: 0.1358695652173913\n",
            "Root Mean Squared Error: 0.3686048903872428\n"
          ]
        }
      ]
    },
    {
      "cell_type": "code",
      "metadata": {
        "colab": {
          "base_uri": "https://localhost:8080/"
        },
        "id": "9TMUAsAmRZ3j",
        "outputId": "15d81925-f9d1-444e-cb7b-dbc81bbe3c52"
      },
      "source": [
        "print(confusion_matrix(y_test,y_pred))\n",
        "print(classification_report(y_test,y_pred))\n",
        "\n",
        "#Accuracy of the model using tuned hyperparameters\n",
        "print(accuracy_score(y_test, y_pred))"
      ],
      "execution_count": null,
      "outputs": [
        {
          "output_type": "stream",
          "name": "stdout",
          "text": [
            "[[62 15]\n",
            " [10 97]]\n",
            "              precision    recall  f1-score   support\n",
            "\n",
            "           0       0.86      0.81      0.83        77\n",
            "           1       0.87      0.91      0.89       107\n",
            "\n",
            "    accuracy                           0.86       184\n",
            "   macro avg       0.86      0.86      0.86       184\n",
            "weighted avg       0.86      0.86      0.86       184\n",
            "\n",
            "0.8641304347826086\n"
          ]
        }
      ]
    },
    {
      "cell_type": "code",
      "metadata": {
        "colab": {
          "base_uri": "https://localhost:8080/"
        },
        "id": "T7oUMxV_RbvY",
        "outputId": "c683ea3d-e6d9-450e-ecd5-4440fcd9d871"
      },
      "source": [
        "#Accuracy of the model using default hyperparameters\n",
        "\n",
        "y_pred = svc_model.predict(X_test)\n",
        "print(accuracy_score(y_test, y_pred))"
      ],
      "execution_count": null,
      "outputs": [
        {
          "output_type": "stream",
          "name": "stdout",
          "text": [
            "0.8532608695652174\n"
          ]
        }
      ]
    },
    {
      "cell_type": "markdown",
      "metadata": {
        "id": "3-YkOU5qRgWb"
      },
      "source": [
        "**Knn after removing Outliers**"
      ]
    },
    {
      "cell_type": "code",
      "metadata": {
        "colab": {
          "base_uri": "https://localhost:8080/"
        },
        "id": "Y47y-xGFRqR8",
        "outputId": "74c10027-bdd5-4284-e87c-77cf17e5b36c"
      },
      "source": [
        "from sklearn.neighbors import KNeighborsClassifier\n",
        "\n",
        "# Run Knn model with dedault parameters\n",
        "knn = KNeighborsClassifier()\n",
        "skf = StratifiedKFold(n_splits=5, shuffle=True)\n",
        "\n",
        "lst_accu_stratified = []\n",
        "for train_index, tune_index in skf.split(X_train, y_train):\n",
        "    data_train_fold, data_tune_fold = X_train[train_index], X_train[tune_index]\n",
        "    label_train_fold, label_tune_fold = y_train[train_index], y_train[tune_index]\n",
        "    knn.fit(data_train_fold, label_train_fold)\n",
        "    lst_accu_stratified.append(knn.score(data_tune_fold, label_tune_fold))\n",
        "print(\"Default validation accuracy for Knn:\", mean(lst_accu_stratified))"
      ],
      "execution_count": null,
      "outputs": [
        {
          "output_type": "stream",
          "name": "stdout",
          "text": [
            "Default validation accuracy for Knn: 0.8661971830985915\n"
          ]
        }
      ]
    },
    {
      "cell_type": "code",
      "metadata": {
        "colab": {
          "base_uri": "https://localhost:8080/"
        },
        "id": "9ZRRBeRpRyxT",
        "outputId": "78bab641-59c8-4b80-caf4-aac54c28cf84"
      },
      "source": [
        "# Run knn model with given parameters\n",
        "k_list = {'n_neighbors': range(1,50), 'weights': ['uniform', 'distance']}\n",
        "grid_knn = GridSearchCV(KNeighborsClassifier(), param_grid=k_list, cv=skf)\n",
        "grid_knn.fit(X_train, y_train)\n",
        "print(\"The best parameters for Knn model are %s with a tuned validation accuracy score of %f\" % (grid_knn.best_params_, grid_knn.best_score_))"
      ],
      "execution_count": null,
      "outputs": [
        {
          "output_type": "stream",
          "name": "stdout",
          "text": [
            "The best parameters for Knn model are {'n_neighbors': 25, 'weights': 'distance'} with a tuned validation accuracy score of 0.885915\n"
          ]
        }
      ]
    },
    {
      "cell_type": "code",
      "metadata": {
        "colab": {
          "base_uri": "https://localhost:8080/"
        },
        "id": "4TOqF41YR1JV",
        "outputId": "c1afeefe-e069-4696-8965-f6abfe4936c9"
      },
      "source": [
        "y_pred = grid_knn.predict(X_test)\n",
        "print('Mean Absolute Error:', metrics.mean_absolute_error(y_test, y_pred))\n",
        "print('Mean Squared Error:', metrics.mean_squared_error(y_test, y_pred))\n",
        "print('Root Mean Squared Error:', np.sqrt(metrics.mean_squared_error(y_test, y_pred)))"
      ],
      "execution_count": null,
      "outputs": [
        {
          "output_type": "stream",
          "name": "stdout",
          "text": [
            "Mean Absolute Error: 0.16847826086956522\n",
            "Mean Squared Error: 0.16847826086956522\n",
            "Root Mean Squared Error: 0.4104610345325914\n"
          ]
        }
      ]
    },
    {
      "cell_type": "code",
      "metadata": {
        "colab": {
          "base_uri": "https://localhost:8080/"
        },
        "id": "wIKAxKp2SBFr",
        "outputId": "6b272ef9-d7a7-462b-c3dd-4c3ea05caec4"
      },
      "source": [
        "print(confusion_matrix(y_test,y_pred))\n",
        "print(classification_report(y_test,y_pred))\n",
        "\n",
        "#Accuracy of the model using tuned hyperparameters\n",
        "print(accuracy_score(y_test, y_pred))"
      ],
      "execution_count": null,
      "outputs": [
        {
          "output_type": "stream",
          "name": "stdout",
          "text": [
            "[[64 13]\n",
            " [18 89]]\n",
            "              precision    recall  f1-score   support\n",
            "\n",
            "           0       0.78      0.83      0.81        77\n",
            "           1       0.87      0.83      0.85       107\n",
            "\n",
            "    accuracy                           0.83       184\n",
            "   macro avg       0.83      0.83      0.83       184\n",
            "weighted avg       0.83      0.83      0.83       184\n",
            "\n",
            "0.8315217391304348\n"
          ]
        }
      ]
    },
    {
      "cell_type": "code",
      "metadata": {
        "colab": {
          "base_uri": "https://localhost:8080/"
        },
        "id": "zVbqBXi8SGTX",
        "outputId": "3ce2eb8b-b024-4671-d9ef-df241d957416"
      },
      "source": [
        "#Accuracy of the model using default hyperparameters\n",
        "\n",
        "y_pred = knn.predict(X_test)\n",
        "print(accuracy_score(y_test, y_pred))"
      ],
      "execution_count": null,
      "outputs": [
        {
          "output_type": "stream",
          "name": "stdout",
          "text": [
            "0.8586956521739131\n"
          ]
        }
      ]
    },
    {
      "cell_type": "markdown",
      "metadata": {
        "id": "nyaH6zR_Ukoj"
      },
      "source": [
        "**MLP after removing outliers**"
      ]
    },
    {
      "cell_type": "code",
      "metadata": {
        "colab": {
          "base_uri": "https://localhost:8080/"
        },
        "id": "x9IFDPdXU1S-",
        "outputId": "d7c81379-c049-49ba-fe6b-b0779fa9bd72"
      },
      "source": [
        "from sklearn.neural_network import MLPClassifier\n",
        "\n",
        "mlp = MLPClassifier()\n",
        "\n",
        "# Run MLP model with dedault parameters\n",
        "skf = StratifiedKFold(n_splits=5, shuffle=True)\n",
        "\n",
        "lst_accu_stratified = []\n",
        "for train_index, tune_index in skf.split(X_train, y_train):\n",
        "    data_train_fold, data_tune_fold = X_train[train_index], X_train[tune_index]\n",
        "    label_train_fold, label_tune_fold = y_train[train_index], y_train[tune_index]\n",
        "    mlp.fit(data_train_fold, label_train_fold)\n",
        "    lst_accu_stratified.append(mlp.score(data_tune_fold, label_tune_fold))\n",
        "print(\"Default validation accuracy for MLP:\", mean(lst_accu_stratified))"
      ],
      "execution_count": null,
      "outputs": [
        {
          "output_type": "stream",
          "name": "stdout",
          "text": [
            "Default validation accuracy for MLP: 0.8816901408450704\n"
          ]
        }
      ]
    },
    {
      "cell_type": "code",
      "metadata": {
        "id": "1Wa0G09wVB2a"
      },
      "source": [
        "parameter_space = {\n",
        "    'max_iter': range(100, 500, 100),\n",
        "    'hidden_layer_sizes': [(50,50,50), (50,100,50), (100,)],\n",
        "    'alpha': [0.0001, 0.05],\n",
        "    'learning_rate': ['constant','adaptive'],\n",
        "    'activation': ['logistic', 'relu']\n",
        "}"
      ],
      "execution_count": null,
      "outputs": []
    },
    {
      "cell_type": "code",
      "metadata": {
        "colab": {
          "base_uri": "https://localhost:8080/"
        },
        "id": "DYY4ts7bVKe4",
        "outputId": "28e406b5-f97d-4e6f-c9d8-ecee61c80a90"
      },
      "source": [
        "grid_mlp = GridSearchCV(MLPClassifier(), param_grid=parameter_space, cv=skf)\n",
        "grid_mlp.fit(X_train, y_train)\n",
        "print(\"The best parameters for MLP model are %s with a tuned validation accuracy score of %f\" % (grid_mlp.best_params_, grid_mlp.best_score_))"
      ],
      "execution_count": null,
      "outputs": [
        {
          "output_type": "stream",
          "name": "stdout",
          "text": [
            "The best parameters for MLP model are {'activation': 'relu', 'alpha': 0.0001, 'hidden_layer_sizes': (100,), 'learning_rate': 'constant', 'max_iter': 200} with a tuned validation accuracy score of 0.877465\n"
          ]
        }
      ]
    },
    {
      "cell_type": "code",
      "metadata": {
        "colab": {
          "base_uri": "https://localhost:8080/"
        },
        "id": "WWUpzXu9VRzb",
        "outputId": "180473c2-246f-4c8c-8722-34856e1319d7"
      },
      "source": [
        "y_pred = grid_mlp.predict(X_test)\n",
        "print('Mean Absolute Error:', metrics.mean_absolute_error(y_test, y_pred))\n",
        "print('Mean Squared Error:', metrics.mean_squared_error(y_test, y_pred))\n",
        "print('Root Mean Squared Error:', np.sqrt(metrics.mean_squared_error(y_test, y_pred)))"
      ],
      "execution_count": null,
      "outputs": [
        {
          "output_type": "stream",
          "name": "stdout",
          "text": [
            "Mean Absolute Error: 0.11413043478260869\n",
            "Mean Squared Error: 0.11413043478260869\n",
            "Root Mean Squared Error: 0.3378319623460881\n"
          ]
        }
      ]
    },
    {
      "cell_type": "code",
      "metadata": {
        "colab": {
          "base_uri": "https://localhost:8080/"
        },
        "id": "VqRpTBBxWAjN",
        "outputId": "3a81f05b-9fb5-455f-bf85-3550604db926"
      },
      "source": [
        "print(confusion_matrix(y_test,y_pred))\n",
        "print(classification_report(y_test,y_pred))\n",
        "\n",
        "#Accuracy of the model using tuned hyperparameters\n",
        "print(accuracy_score(y_test, y_pred))"
      ],
      "execution_count": null,
      "outputs": [
        {
          "output_type": "stream",
          "name": "stdout",
          "text": [
            "[[66 11]\n",
            " [10 97]]\n",
            "              precision    recall  f1-score   support\n",
            "\n",
            "           0       0.87      0.86      0.86        77\n",
            "           1       0.90      0.91      0.90       107\n",
            "\n",
            "    accuracy                           0.89       184\n",
            "   macro avg       0.88      0.88      0.88       184\n",
            "weighted avg       0.89      0.89      0.89       184\n",
            "\n",
            "0.8858695652173914\n"
          ]
        }
      ]
    },
    {
      "cell_type": "code",
      "metadata": {
        "colab": {
          "base_uri": "https://localhost:8080/"
        },
        "id": "769rHKDHWF2n",
        "outputId": "6cc205dc-52d5-458b-f11b-58460ad98a04"
      },
      "source": [
        "#Accuracy of the model using default hyperparameters\n",
        "\n",
        "y_pred = mlp.predict(X_test)\n",
        "print(accuracy_score(y_test, y_pred))"
      ],
      "execution_count": null,
      "outputs": [
        {
          "output_type": "stream",
          "name": "stdout",
          "text": [
            "0.8641304347826086\n"
          ]
        }
      ]
    },
    {
      "cell_type": "markdown",
      "metadata": {
        "id": "C3r0ij8EWWb7"
      },
      "source": [
        "**AdaBoost after removing Outliers**"
      ]
    },
    {
      "cell_type": "code",
      "metadata": {
        "colab": {
          "base_uri": "https://localhost:8080/"
        },
        "id": "a6U3tr95Watk",
        "outputId": "a326afb7-8e2a-4ccb-970a-b9f2d9a00999"
      },
      "source": [
        "from sklearn.ensemble import AdaBoostClassifier\n",
        "        \n",
        "ada = AdaBoostClassifier()\n",
        "lst_accu_stratified = []\n",
        "\n",
        "for train_index, tune_index in skf.split(X_train, y_train):\n",
        "    data_train_fold, data_tune_fold = X_train[train_index], X_train[tune_index]\n",
        "    label_train_fold, label_tune_fold = y_train[train_index], y_train[tune_index]\n",
        "    ada.fit(data_train_fold, label_train_fold)\n",
        "    lst_accu_stratified.append(ada.score(data_tune_fold, label_tune_fold))\n",
        "print(\"Default validation accuracy for Ada Boost:\", mean(lst_accu_stratified))"
      ],
      "execution_count": null,
      "outputs": [
        {
          "output_type": "stream",
          "name": "stdout",
          "text": [
            "Default validation accuracy for MLP: 0.8732394366197183\n"
          ]
        }
      ]
    },
    {
      "cell_type": "code",
      "metadata": {
        "id": "pNTBTfDUjLDb"
      },
      "source": [
        "parameter_space = {\n",
        "    'n_estimators': range(1, 121, 20),\n",
        "    'learning_rate': [0.05,0.1,0.2,0.3,0.5,0.7,1,1.2, 1.5, 1.7, 2.0, 2.5, 3.0]\n",
        "}"
      ],
      "execution_count": null,
      "outputs": []
    },
    {
      "cell_type": "code",
      "metadata": {
        "colab": {
          "base_uri": "https://localhost:8080/"
        },
        "id": "x9VTgUU9jjmG",
        "outputId": "3b033c7c-ecfd-4064-c460-b973f2493176"
      },
      "source": [
        "grid_ada = GridSearchCV(AdaBoostClassifier(), param_grid=parameter_space, cv=skf)\n",
        "grid_ada.fit(X_train, y_train)\n",
        "print(\"The best parameters for MLP model are %s with a tuned validation accuracy score of %f\" % (grid_ada.best_params_, grid_ada.best_score_))"
      ],
      "execution_count": null,
      "outputs": [
        {
          "output_type": "stream",
          "name": "stdout",
          "text": [
            "The best parameters for MLP model are {'learning_rate': 0.3, 'n_estimators': 21} with a tuned validation accuracy score of 0.885915\n"
          ]
        }
      ]
    },
    {
      "cell_type": "code",
      "metadata": {
        "colab": {
          "base_uri": "https://localhost:8080/"
        },
        "id": "X5Y4R-dblzYS",
        "outputId": "9bf6e8aa-9fb1-47cf-fbf6-7333cef46801"
      },
      "source": [
        "y_pred = grid_ada.predict(X_test)\n",
        "print('Mean Absolute Error:', metrics.mean_absolute_error(y_test, y_pred))\n",
        "print('Mean Squared Error:', metrics.mean_squared_error(y_test, y_pred))\n",
        "print('Root Mean Squared Error:', np.sqrt(metrics.mean_squared_error(y_test, y_pred)))"
      ],
      "execution_count": null,
      "outputs": [
        {
          "output_type": "stream",
          "name": "stdout",
          "text": [
            "Mean Absolute Error: 0.15760869565217392\n",
            "Mean Squared Error: 0.15760869565217392\n",
            "Root Mean Squared Error: 0.39699961669021033\n"
          ]
        }
      ]
    },
    {
      "cell_type": "code",
      "metadata": {
        "colab": {
          "base_uri": "https://localhost:8080/"
        },
        "id": "E9GtLwNTl5aC",
        "outputId": "8c3eabc4-93ae-41ff-a87e-f322ac1fa1e2"
      },
      "source": [
        "print(confusion_matrix(y_test,y_pred))\n",
        "print(classification_report(y_test,y_pred))\n",
        "\n",
        "#Accuracy of the model using tuned hyperparameters\n",
        "print(accuracy_score(y_test, y_pred))"
      ],
      "execution_count": null,
      "outputs": [
        {
          "output_type": "stream",
          "name": "stdout",
          "text": [
            "[[60 17]\n",
            " [12 95]]\n",
            "              precision    recall  f1-score   support\n",
            "\n",
            "           0       0.83      0.78      0.81        77\n",
            "           1       0.85      0.89      0.87       107\n",
            "\n",
            "    accuracy                           0.84       184\n",
            "   macro avg       0.84      0.83      0.84       184\n",
            "weighted avg       0.84      0.84      0.84       184\n",
            "\n",
            "0.842391304347826\n"
          ]
        }
      ]
    },
    {
      "cell_type": "code",
      "metadata": {
        "colab": {
          "base_uri": "https://localhost:8080/"
        },
        "id": "cw5fzXyil8vm",
        "outputId": "69f60b91-f366-4e4c-aa8f-5ddc539e2485"
      },
      "source": [
        "#Accuracy of the model using default hyperparameters\n",
        "\n",
        "y_pred = mlp.predict(X_test)\n",
        "print(accuracy_score(y_test, y_pred))"
      ],
      "execution_count": null,
      "outputs": [
        {
          "output_type": "stream",
          "name": "stdout",
          "text": [
            "0.8641304347826086\n"
          ]
        }
      ]
    }
  ]
}